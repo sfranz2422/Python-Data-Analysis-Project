{
 "cells": [
  {
   "cell_type": "markdown",
   "id": "73d305a6",
   "metadata": {},
   "source": [
    "# Session 4:  Basics of Data Analysis with Python\n",
    "\n",
    "\n"
   ]
  },
  {
   "cell_type": "markdown",
   "id": "1748a225",
   "metadata": {},
   "source": [
    "## Objectives\n",
    "\n",
    "Learn how to conduct basic data analysis using Pandas, an open source data analysis and manipulation tool built on the Python programming language \n"
   ]
  },
  {
   "cell_type": "markdown",
   "id": "de750e1a",
   "metadata": {},
   "source": [
    "## Agenda\n",
    "\n",
    "Topic recap & Pandas demonstration (60 mins.)\n",
    "Discussion of the Python Portfolio Project (30 mins.)\n"
   ]
  },
  {
   "cell_type": "markdown",
   "id": "a9d1a98a",
   "metadata": {},
   "source": [
    "## What is Pandas?\n",
    "\n",
    "* Python Data Analysis Library\n",
    "* Python library with a set of tools for data analysis\n",
    "* load, prepare, manipulate, model, analyze, merge, reshape, etc\n",
    "* data frame - the basic structure (like a table)\n",
    "* ```import pandas as pd```\n"
   ]
  },
  {
   "cell_type": "code",
   "execution_count": 179,
   "id": "b63d9edc",
   "metadata": {},
   "outputs": [],
   "source": [
    "import pandas as pd"
   ]
  },
  {
   "cell_type": "markdown",
   "id": "fc0f9221",
   "metadata": {},
   "source": [
    "## What is a DataFrame?\n",
    "\n",
    "Features of DataFrame\n",
    "* Labeled axes (rows and columns)\n",
    "* Potentially columns are of different types\n",
    "* Size is mutable\n",
    "* Can perform arithmetic operations on rows and columns\n",
    "* Can slice, select, index, etc\n"
   ]
  },
  {
   "cell_type": "markdown",
   "id": "d8bb501b",
   "metadata": {},
   "source": [
    "## Loading and Reading Data\n",
    "\n",
    "* Reading Data\n",
    "```\n",
    "df = pd.read_csv(csv_path)\n",
    "df = pd.read_excel(excel_path)\n",
    "```\n",
    "* Displaying Data\n",
    "```\n",
    "df.head(n) - shows the top n rows (default is 5)\n",
    "df.tail(n) - shows the last n rows (default is 5)\n",
    "df.T - transpose rows and columns\n",
    "```\n"
   ]
  },
  {
   "cell_type": "code",
   "execution_count": 180,
   "id": "06ca5613",
   "metadata": {},
   "outputs": [],
   "source": [
    "df = pd.read_csv('inventory.csv')"
   ]
  },
  {
   "cell_type": "code",
   "execution_count": 181,
   "id": "52deb6d0",
   "metadata": {},
   "outputs": [
    {
     "data": {
      "text/html": [
       "<div>\n",
       "<style scoped>\n",
       "    .dataframe tbody tr th:only-of-type {\n",
       "        vertical-align: middle;\n",
       "    }\n",
       "\n",
       "    .dataframe tbody tr th {\n",
       "        vertical-align: top;\n",
       "    }\n",
       "\n",
       "    .dataframe thead th {\n",
       "        text-align: right;\n",
       "    }\n",
       "</style>\n",
       "<table border=\"1\" class=\"dataframe\">\n",
       "  <thead>\n",
       "    <tr style=\"text-align: right;\">\n",
       "      <th></th>\n",
       "      <th>location</th>\n",
       "      <th>product_type</th>\n",
       "      <th>product_description</th>\n",
       "      <th>quantity</th>\n",
       "      <th>price</th>\n",
       "    </tr>\n",
       "  </thead>\n",
       "  <tbody>\n",
       "    <tr>\n",
       "      <th>0</th>\n",
       "      <td>Staten Island</td>\n",
       "      <td>seeds</td>\n",
       "      <td>daisy</td>\n",
       "      <td>4</td>\n",
       "      <td>6.99</td>\n",
       "    </tr>\n",
       "    <tr>\n",
       "      <th>1</th>\n",
       "      <td>Staten Island</td>\n",
       "      <td>seeds</td>\n",
       "      <td>calla lily</td>\n",
       "      <td>46</td>\n",
       "      <td>19.99</td>\n",
       "    </tr>\n",
       "    <tr>\n",
       "      <th>2</th>\n",
       "      <td>Staten Island</td>\n",
       "      <td>seeds</td>\n",
       "      <td>tomato</td>\n",
       "      <td>85</td>\n",
       "      <td>13.99</td>\n",
       "    </tr>\n",
       "    <tr>\n",
       "      <th>3</th>\n",
       "      <td>Staten Island</td>\n",
       "      <td>garden tools</td>\n",
       "      <td>rake</td>\n",
       "      <td>4</td>\n",
       "      <td>13.99</td>\n",
       "    </tr>\n",
       "    <tr>\n",
       "      <th>4</th>\n",
       "      <td>Staten Island</td>\n",
       "      <td>garden tools</td>\n",
       "      <td>wheelbarrow</td>\n",
       "      <td>0</td>\n",
       "      <td>89.99</td>\n",
       "    </tr>\n",
       "    <tr>\n",
       "      <th>5</th>\n",
       "      <td>Staten Island</td>\n",
       "      <td>garden tools</td>\n",
       "      <td>spade</td>\n",
       "      <td>93</td>\n",
       "      <td>19.99</td>\n",
       "    </tr>\n",
       "    <tr>\n",
       "      <th>6</th>\n",
       "      <td>Staten Island</td>\n",
       "      <td>pest_control</td>\n",
       "      <td>insect killer</td>\n",
       "      <td>74</td>\n",
       "      <td>12.99</td>\n",
       "    </tr>\n",
       "    <tr>\n",
       "      <th>7</th>\n",
       "      <td>Staten Island</td>\n",
       "      <td>pest_control</td>\n",
       "      <td>weed killer</td>\n",
       "      <td>8</td>\n",
       "      <td>23.99</td>\n",
       "    </tr>\n",
       "    <tr>\n",
       "      <th>8</th>\n",
       "      <td>Staten Island</td>\n",
       "      <td>planter</td>\n",
       "      <td>20 inch terracotta planter</td>\n",
       "      <td>0</td>\n",
       "      <td>17.99</td>\n",
       "    </tr>\n",
       "    <tr>\n",
       "      <th>9</th>\n",
       "      <td>Staten Island</td>\n",
       "      <td>planter</td>\n",
       "      <td>8 inch plastic planter</td>\n",
       "      <td>53</td>\n",
       "      <td>3.99</td>\n",
       "    </tr>\n",
       "  </tbody>\n",
       "</table>\n",
       "</div>"
      ],
      "text/plain": [
       "        location  product_type         product_description  quantity  price\n",
       "0  Staten Island         seeds                       daisy         4   6.99\n",
       "1  Staten Island         seeds                  calla lily        46  19.99\n",
       "2  Staten Island         seeds                      tomato        85  13.99\n",
       "3  Staten Island  garden tools                        rake         4  13.99\n",
       "4  Staten Island  garden tools                 wheelbarrow         0  89.99\n",
       "5  Staten Island  garden tools                       spade        93  19.99\n",
       "6  Staten Island  pest_control               insect killer        74  12.99\n",
       "7  Staten Island  pest_control                 weed killer         8  23.99\n",
       "8  Staten Island       planter  20 inch terracotta planter         0  17.99\n",
       "9  Staten Island       planter      8 inch plastic planter        53   3.99"
      ]
     },
     "execution_count": 181,
     "metadata": {},
     "output_type": "execute_result"
    }
   ],
   "source": [
    "df.head(10)"
   ]
  },
  {
   "cell_type": "code",
   "execution_count": 182,
   "id": "417a887d",
   "metadata": {},
   "outputs": [
    {
     "data": {
      "text/html": [
       "<div>\n",
       "<style scoped>\n",
       "    .dataframe tbody tr th:only-of-type {\n",
       "        vertical-align: middle;\n",
       "    }\n",
       "\n",
       "    .dataframe tbody tr th {\n",
       "        vertical-align: top;\n",
       "    }\n",
       "\n",
       "    .dataframe thead th {\n",
       "        text-align: right;\n",
       "    }\n",
       "</style>\n",
       "<table border=\"1\" class=\"dataframe\">\n",
       "  <thead>\n",
       "    <tr style=\"text-align: right;\">\n",
       "      <th></th>\n",
       "      <th>location</th>\n",
       "      <th>product_type</th>\n",
       "      <th>product_description</th>\n",
       "      <th>quantity</th>\n",
       "      <th>price</th>\n",
       "    </tr>\n",
       "  </thead>\n",
       "  <tbody>\n",
       "    <tr>\n",
       "      <th>19</th>\n",
       "      <td>Brooklyn</td>\n",
       "      <td>planter</td>\n",
       "      <td>8 inch plastic planter</td>\n",
       "      <td>26</td>\n",
       "      <td>3.99</td>\n",
       "    </tr>\n",
       "    <tr>\n",
       "      <th>20</th>\n",
       "      <td>Queens</td>\n",
       "      <td>seeds</td>\n",
       "      <td>daisy</td>\n",
       "      <td>57</td>\n",
       "      <td>6.99</td>\n",
       "    </tr>\n",
       "    <tr>\n",
       "      <th>21</th>\n",
       "      <td>Queens</td>\n",
       "      <td>seeds</td>\n",
       "      <td>calla lily</td>\n",
       "      <td>95</td>\n",
       "      <td>19.99</td>\n",
       "    </tr>\n",
       "    <tr>\n",
       "      <th>22</th>\n",
       "      <td>Queens</td>\n",
       "      <td>seeds</td>\n",
       "      <td>tomato</td>\n",
       "      <td>45</td>\n",
       "      <td>13.99</td>\n",
       "    </tr>\n",
       "    <tr>\n",
       "      <th>23</th>\n",
       "      <td>Queens</td>\n",
       "      <td>garden tools</td>\n",
       "      <td>rake</td>\n",
       "      <td>21</td>\n",
       "      <td>13.99</td>\n",
       "    </tr>\n",
       "    <tr>\n",
       "      <th>24</th>\n",
       "      <td>Queens</td>\n",
       "      <td>garden tools</td>\n",
       "      <td>wheelbarrow</td>\n",
       "      <td>98</td>\n",
       "      <td>89.99</td>\n",
       "    </tr>\n",
       "    <tr>\n",
       "      <th>25</th>\n",
       "      <td>Queens</td>\n",
       "      <td>garden tools</td>\n",
       "      <td>spade</td>\n",
       "      <td>26</td>\n",
       "      <td>19.99</td>\n",
       "    </tr>\n",
       "    <tr>\n",
       "      <th>26</th>\n",
       "      <td>Queens</td>\n",
       "      <td>pest_control</td>\n",
       "      <td>insect killer</td>\n",
       "      <td>0</td>\n",
       "      <td>12.99</td>\n",
       "    </tr>\n",
       "    <tr>\n",
       "      <th>27</th>\n",
       "      <td>Queens</td>\n",
       "      <td>pest_control</td>\n",
       "      <td>weed killer</td>\n",
       "      <td>16</td>\n",
       "      <td>23.99</td>\n",
       "    </tr>\n",
       "    <tr>\n",
       "      <th>28</th>\n",
       "      <td>Queens</td>\n",
       "      <td>planter</td>\n",
       "      <td>20 inch terracotta planter</td>\n",
       "      <td>87</td>\n",
       "      <td>17.99</td>\n",
       "    </tr>\n",
       "  </tbody>\n",
       "</table>\n",
       "</div>"
      ],
      "text/plain": [
       "    location  product_type         product_description  quantity  price\n",
       "19  Brooklyn       planter      8 inch plastic planter        26   3.99\n",
       "20    Queens         seeds                       daisy        57   6.99\n",
       "21    Queens         seeds                  calla lily        95  19.99\n",
       "22    Queens         seeds                      tomato        45  13.99\n",
       "23    Queens  garden tools                        rake        21  13.99\n",
       "24    Queens  garden tools                 wheelbarrow        98  89.99\n",
       "25    Queens  garden tools                       spade        26  19.99\n",
       "26    Queens  pest_control               insect killer         0  12.99\n",
       "27    Queens  pest_control                 weed killer        16  23.99\n",
       "28    Queens       planter  20 inch terracotta planter        87  17.99"
      ]
     },
     "execution_count": 182,
     "metadata": {},
     "output_type": "execute_result"
    }
   ],
   "source": [
    "df.tail(10)"
   ]
  },
  {
   "cell_type": "code",
   "execution_count": 184,
   "id": "3cc9eeaa",
   "metadata": {},
   "outputs": [
    {
     "data": {
      "text/html": [
       "<div>\n",
       "<style scoped>\n",
       "    .dataframe tbody tr th:only-of-type {\n",
       "        vertical-align: middle;\n",
       "    }\n",
       "\n",
       "    .dataframe tbody tr th {\n",
       "        vertical-align: top;\n",
       "    }\n",
       "\n",
       "    .dataframe thead th {\n",
       "        text-align: right;\n",
       "    }\n",
       "</style>\n",
       "<table border=\"1\" class=\"dataframe\">\n",
       "  <thead>\n",
       "    <tr style=\"text-align: right;\">\n",
       "      <th></th>\n",
       "      <th>0</th>\n",
       "      <th>1</th>\n",
       "      <th>2</th>\n",
       "      <th>3</th>\n",
       "      <th>4</th>\n",
       "      <th>5</th>\n",
       "      <th>6</th>\n",
       "      <th>7</th>\n",
       "      <th>8</th>\n",
       "      <th>9</th>\n",
       "      <th>...</th>\n",
       "      <th>19</th>\n",
       "      <th>20</th>\n",
       "      <th>21</th>\n",
       "      <th>22</th>\n",
       "      <th>23</th>\n",
       "      <th>24</th>\n",
       "      <th>25</th>\n",
       "      <th>26</th>\n",
       "      <th>27</th>\n",
       "      <th>28</th>\n",
       "    </tr>\n",
       "  </thead>\n",
       "  <tbody>\n",
       "    <tr>\n",
       "      <th>location</th>\n",
       "      <td>Staten Island</td>\n",
       "      <td>Staten Island</td>\n",
       "      <td>Staten Island</td>\n",
       "      <td>Staten Island</td>\n",
       "      <td>Staten Island</td>\n",
       "      <td>Staten Island</td>\n",
       "      <td>Staten Island</td>\n",
       "      <td>Staten Island</td>\n",
       "      <td>Staten Island</td>\n",
       "      <td>Staten Island</td>\n",
       "      <td>...</td>\n",
       "      <td>Brooklyn</td>\n",
       "      <td>Queens</td>\n",
       "      <td>Queens</td>\n",
       "      <td>Queens</td>\n",
       "      <td>Queens</td>\n",
       "      <td>Queens</td>\n",
       "      <td>Queens</td>\n",
       "      <td>Queens</td>\n",
       "      <td>Queens</td>\n",
       "      <td>Queens</td>\n",
       "    </tr>\n",
       "    <tr>\n",
       "      <th>product_type</th>\n",
       "      <td>seeds</td>\n",
       "      <td>seeds</td>\n",
       "      <td>seeds</td>\n",
       "      <td>garden tools</td>\n",
       "      <td>garden tools</td>\n",
       "      <td>garden tools</td>\n",
       "      <td>pest_control</td>\n",
       "      <td>pest_control</td>\n",
       "      <td>planter</td>\n",
       "      <td>planter</td>\n",
       "      <td>...</td>\n",
       "      <td>planter</td>\n",
       "      <td>seeds</td>\n",
       "      <td>seeds</td>\n",
       "      <td>seeds</td>\n",
       "      <td>garden tools</td>\n",
       "      <td>garden tools</td>\n",
       "      <td>garden tools</td>\n",
       "      <td>pest_control</td>\n",
       "      <td>pest_control</td>\n",
       "      <td>planter</td>\n",
       "    </tr>\n",
       "    <tr>\n",
       "      <th>product_description</th>\n",
       "      <td>daisy</td>\n",
       "      <td>calla lily</td>\n",
       "      <td>tomato</td>\n",
       "      <td>rake</td>\n",
       "      <td>wheelbarrow</td>\n",
       "      <td>spade</td>\n",
       "      <td>insect killer</td>\n",
       "      <td>weed killer</td>\n",
       "      <td>20 inch terracotta planter</td>\n",
       "      <td>8 inch plastic planter</td>\n",
       "      <td>...</td>\n",
       "      <td>8 inch plastic planter</td>\n",
       "      <td>daisy</td>\n",
       "      <td>calla lily</td>\n",
       "      <td>tomato</td>\n",
       "      <td>rake</td>\n",
       "      <td>wheelbarrow</td>\n",
       "      <td>spade</td>\n",
       "      <td>insect killer</td>\n",
       "      <td>weed killer</td>\n",
       "      <td>20 inch terracotta planter</td>\n",
       "    </tr>\n",
       "    <tr>\n",
       "      <th>quantity</th>\n",
       "      <td>4</td>\n",
       "      <td>46</td>\n",
       "      <td>85</td>\n",
       "      <td>4</td>\n",
       "      <td>0</td>\n",
       "      <td>93</td>\n",
       "      <td>74</td>\n",
       "      <td>8</td>\n",
       "      <td>0</td>\n",
       "      <td>53</td>\n",
       "      <td>...</td>\n",
       "      <td>26</td>\n",
       "      <td>57</td>\n",
       "      <td>95</td>\n",
       "      <td>45</td>\n",
       "      <td>21</td>\n",
       "      <td>98</td>\n",
       "      <td>26</td>\n",
       "      <td>0</td>\n",
       "      <td>16</td>\n",
       "      <td>87</td>\n",
       "    </tr>\n",
       "    <tr>\n",
       "      <th>price</th>\n",
       "      <td>6.99</td>\n",
       "      <td>19.99</td>\n",
       "      <td>13.99</td>\n",
       "      <td>13.99</td>\n",
       "      <td>89.99</td>\n",
       "      <td>19.99</td>\n",
       "      <td>12.99</td>\n",
       "      <td>23.99</td>\n",
       "      <td>17.99</td>\n",
       "      <td>3.99</td>\n",
       "      <td>...</td>\n",
       "      <td>3.99</td>\n",
       "      <td>6.99</td>\n",
       "      <td>19.99</td>\n",
       "      <td>13.99</td>\n",
       "      <td>13.99</td>\n",
       "      <td>89.99</td>\n",
       "      <td>19.99</td>\n",
       "      <td>12.99</td>\n",
       "      <td>23.99</td>\n",
       "      <td>17.99</td>\n",
       "    </tr>\n",
       "  </tbody>\n",
       "</table>\n",
       "<p>5 rows × 29 columns</p>\n",
       "</div>"
      ],
      "text/plain": [
       "                                0              1              2   \\\n",
       "location             Staten Island  Staten Island  Staten Island   \n",
       "product_type                 seeds          seeds          seeds   \n",
       "product_description          daisy     calla lily         tomato   \n",
       "quantity                         4             46             85   \n",
       "price                         6.99          19.99          13.99   \n",
       "\n",
       "                                3              4              5   \\\n",
       "location             Staten Island  Staten Island  Staten Island   \n",
       "product_type          garden tools   garden tools   garden tools   \n",
       "product_description           rake    wheelbarrow          spade   \n",
       "quantity                         4              0             93   \n",
       "price                        13.99          89.99          19.99   \n",
       "\n",
       "                                6              7                           8   \\\n",
       "location             Staten Island  Staten Island               Staten Island   \n",
       "product_type          pest_control   pest_control                     planter   \n",
       "product_description  insect killer    weed killer  20 inch terracotta planter   \n",
       "quantity                        74              8                           0   \n",
       "price                        12.99          23.99                       17.99   \n",
       "\n",
       "                                         9   ...                      19  \\\n",
       "location                      Staten Island  ...                Brooklyn   \n",
       "product_type                        planter  ...                 planter   \n",
       "product_description  8 inch plastic planter  ...  8 inch plastic planter   \n",
       "quantity                                 53  ...                      26   \n",
       "price                                  3.99  ...                    3.99   \n",
       "\n",
       "                         20          21      22            23            24  \\\n",
       "location             Queens      Queens  Queens        Queens        Queens   \n",
       "product_type          seeds       seeds   seeds  garden tools  garden tools   \n",
       "product_description   daisy  calla lily  tomato          rake   wheelbarrow   \n",
       "quantity                 57          95      45            21            98   \n",
       "price                  6.99       19.99   13.99         13.99         89.99   \n",
       "\n",
       "                               25             26            27  \\\n",
       "location                   Queens         Queens        Queens   \n",
       "product_type         garden tools   pest_control  pest_control   \n",
       "product_description         spade  insect killer   weed killer   \n",
       "quantity                       26              0            16   \n",
       "price                       19.99          12.99         23.99   \n",
       "\n",
       "                                             28  \n",
       "location                                 Queens  \n",
       "product_type                            planter  \n",
       "product_description  20 inch terracotta planter  \n",
       "quantity                                     87  \n",
       "price                                     17.99  \n",
       "\n",
       "[5 rows x 29 columns]"
      ]
     },
     "execution_count": 184,
     "metadata": {},
     "output_type": "execute_result"
    }
   ],
   "source": [
    "df.T\n",
    "# transpose switch rows and columns.  I didn't save this to a variable so not going to stick"
   ]
  },
  {
   "cell_type": "code",
   "execution_count": 185,
   "id": "59a37dc4",
   "metadata": {},
   "outputs": [
    {
     "data": {
      "text/html": [
       "<div>\n",
       "<style scoped>\n",
       "    .dataframe tbody tr th:only-of-type {\n",
       "        vertical-align: middle;\n",
       "    }\n",
       "\n",
       "    .dataframe tbody tr th {\n",
       "        vertical-align: top;\n",
       "    }\n",
       "\n",
       "    .dataframe thead th {\n",
       "        text-align: right;\n",
       "    }\n",
       "</style>\n",
       "<table border=\"1\" class=\"dataframe\">\n",
       "  <thead>\n",
       "    <tr style=\"text-align: right;\">\n",
       "      <th></th>\n",
       "      <th>location</th>\n",
       "      <th>product_type</th>\n",
       "      <th>product_description</th>\n",
       "      <th>quantity</th>\n",
       "      <th>price</th>\n",
       "    </tr>\n",
       "  </thead>\n",
       "  <tbody>\n",
       "    <tr>\n",
       "      <th>0</th>\n",
       "      <td>Staten Island</td>\n",
       "      <td>seeds</td>\n",
       "      <td>daisy</td>\n",
       "      <td>4</td>\n",
       "      <td>6.99</td>\n",
       "    </tr>\n",
       "    <tr>\n",
       "      <th>1</th>\n",
       "      <td>Staten Island</td>\n",
       "      <td>seeds</td>\n",
       "      <td>calla lily</td>\n",
       "      <td>46</td>\n",
       "      <td>19.99</td>\n",
       "    </tr>\n",
       "    <tr>\n",
       "      <th>2</th>\n",
       "      <td>Staten Island</td>\n",
       "      <td>seeds</td>\n",
       "      <td>tomato</td>\n",
       "      <td>85</td>\n",
       "      <td>13.99</td>\n",
       "    </tr>\n",
       "    <tr>\n",
       "      <th>3</th>\n",
       "      <td>Staten Island</td>\n",
       "      <td>garden tools</td>\n",
       "      <td>rake</td>\n",
       "      <td>4</td>\n",
       "      <td>13.99</td>\n",
       "    </tr>\n",
       "    <tr>\n",
       "      <th>4</th>\n",
       "      <td>Staten Island</td>\n",
       "      <td>garden tools</td>\n",
       "      <td>wheelbarrow</td>\n",
       "      <td>0</td>\n",
       "      <td>89.99</td>\n",
       "    </tr>\n",
       "    <tr>\n",
       "      <th>5</th>\n",
       "      <td>Staten Island</td>\n",
       "      <td>garden tools</td>\n",
       "      <td>spade</td>\n",
       "      <td>93</td>\n",
       "      <td>19.99</td>\n",
       "    </tr>\n",
       "    <tr>\n",
       "      <th>6</th>\n",
       "      <td>Staten Island</td>\n",
       "      <td>pest_control</td>\n",
       "      <td>insect killer</td>\n",
       "      <td>74</td>\n",
       "      <td>12.99</td>\n",
       "    </tr>\n",
       "    <tr>\n",
       "      <th>7</th>\n",
       "      <td>Staten Island</td>\n",
       "      <td>pest_control</td>\n",
       "      <td>weed killer</td>\n",
       "      <td>8</td>\n",
       "      <td>23.99</td>\n",
       "    </tr>\n",
       "    <tr>\n",
       "      <th>8</th>\n",
       "      <td>Staten Island</td>\n",
       "      <td>planter</td>\n",
       "      <td>20 inch terracotta planter</td>\n",
       "      <td>0</td>\n",
       "      <td>17.99</td>\n",
       "    </tr>\n",
       "    <tr>\n",
       "      <th>9</th>\n",
       "      <td>Staten Island</td>\n",
       "      <td>planter</td>\n",
       "      <td>8 inch plastic planter</td>\n",
       "      <td>53</td>\n",
       "      <td>3.99</td>\n",
       "    </tr>\n",
       "    <tr>\n",
       "      <th>10</th>\n",
       "      <td>Brooklyn</td>\n",
       "      <td>seeds</td>\n",
       "      <td>daisy</td>\n",
       "      <td>50</td>\n",
       "      <td>6.99</td>\n",
       "    </tr>\n",
       "    <tr>\n",
       "      <th>11</th>\n",
       "      <td>Brooklyn</td>\n",
       "      <td>seeds</td>\n",
       "      <td>calla lily</td>\n",
       "      <td>0</td>\n",
       "      <td>19.99</td>\n",
       "    </tr>\n",
       "    <tr>\n",
       "      <th>12</th>\n",
       "      <td>Brooklyn</td>\n",
       "      <td>seeds</td>\n",
       "      <td>tomato</td>\n",
       "      <td>0</td>\n",
       "      <td>13.99</td>\n",
       "    </tr>\n",
       "    <tr>\n",
       "      <th>13</th>\n",
       "      <td>Brooklyn</td>\n",
       "      <td>garden tools</td>\n",
       "      <td>rake</td>\n",
       "      <td>15</td>\n",
       "      <td>13.99</td>\n",
       "    </tr>\n",
       "    <tr>\n",
       "      <th>14</th>\n",
       "      <td>Brooklyn</td>\n",
       "      <td>garden tools</td>\n",
       "      <td>wheelbarrow</td>\n",
       "      <td>82</td>\n",
       "      <td>89.99</td>\n",
       "    </tr>\n",
       "    <tr>\n",
       "      <th>15</th>\n",
       "      <td>Brooklyn</td>\n",
       "      <td>garden tools</td>\n",
       "      <td>spade</td>\n",
       "      <td>36</td>\n",
       "      <td>19.99</td>\n",
       "    </tr>\n",
       "    <tr>\n",
       "      <th>16</th>\n",
       "      <td>Brooklyn</td>\n",
       "      <td>pest_control</td>\n",
       "      <td>insect killer</td>\n",
       "      <td>80</td>\n",
       "      <td>12.99</td>\n",
       "    </tr>\n",
       "    <tr>\n",
       "      <th>17</th>\n",
       "      <td>Brooklyn</td>\n",
       "      <td>pest_control</td>\n",
       "      <td>weed killer</td>\n",
       "      <td>76</td>\n",
       "      <td>23.99</td>\n",
       "    </tr>\n",
       "    <tr>\n",
       "      <th>18</th>\n",
       "      <td>Brooklyn</td>\n",
       "      <td>planter</td>\n",
       "      <td>20 inch terracotta planter</td>\n",
       "      <td>5</td>\n",
       "      <td>17.99</td>\n",
       "    </tr>\n",
       "    <tr>\n",
       "      <th>19</th>\n",
       "      <td>Brooklyn</td>\n",
       "      <td>planter</td>\n",
       "      <td>8 inch plastic planter</td>\n",
       "      <td>26</td>\n",
       "      <td>3.99</td>\n",
       "    </tr>\n",
       "    <tr>\n",
       "      <th>20</th>\n",
       "      <td>Queens</td>\n",
       "      <td>seeds</td>\n",
       "      <td>daisy</td>\n",
       "      <td>57</td>\n",
       "      <td>6.99</td>\n",
       "    </tr>\n",
       "    <tr>\n",
       "      <th>21</th>\n",
       "      <td>Queens</td>\n",
       "      <td>seeds</td>\n",
       "      <td>calla lily</td>\n",
       "      <td>95</td>\n",
       "      <td>19.99</td>\n",
       "    </tr>\n",
       "    <tr>\n",
       "      <th>22</th>\n",
       "      <td>Queens</td>\n",
       "      <td>seeds</td>\n",
       "      <td>tomato</td>\n",
       "      <td>45</td>\n",
       "      <td>13.99</td>\n",
       "    </tr>\n",
       "    <tr>\n",
       "      <th>23</th>\n",
       "      <td>Queens</td>\n",
       "      <td>garden tools</td>\n",
       "      <td>rake</td>\n",
       "      <td>21</td>\n",
       "      <td>13.99</td>\n",
       "    </tr>\n",
       "    <tr>\n",
       "      <th>24</th>\n",
       "      <td>Queens</td>\n",
       "      <td>garden tools</td>\n",
       "      <td>wheelbarrow</td>\n",
       "      <td>98</td>\n",
       "      <td>89.99</td>\n",
       "    </tr>\n",
       "    <tr>\n",
       "      <th>25</th>\n",
       "      <td>Queens</td>\n",
       "      <td>garden tools</td>\n",
       "      <td>spade</td>\n",
       "      <td>26</td>\n",
       "      <td>19.99</td>\n",
       "    </tr>\n",
       "    <tr>\n",
       "      <th>26</th>\n",
       "      <td>Queens</td>\n",
       "      <td>pest_control</td>\n",
       "      <td>insect killer</td>\n",
       "      <td>0</td>\n",
       "      <td>12.99</td>\n",
       "    </tr>\n",
       "    <tr>\n",
       "      <th>27</th>\n",
       "      <td>Queens</td>\n",
       "      <td>pest_control</td>\n",
       "      <td>weed killer</td>\n",
       "      <td>16</td>\n",
       "      <td>23.99</td>\n",
       "    </tr>\n",
       "    <tr>\n",
       "      <th>28</th>\n",
       "      <td>Queens</td>\n",
       "      <td>planter</td>\n",
       "      <td>20 inch terracotta planter</td>\n",
       "      <td>87</td>\n",
       "      <td>17.99</td>\n",
       "    </tr>\n",
       "  </tbody>\n",
       "</table>\n",
       "</div>"
      ],
      "text/plain": [
       "         location  product_type         product_description  quantity  price\n",
       "0   Staten Island         seeds                       daisy         4   6.99\n",
       "1   Staten Island         seeds                  calla lily        46  19.99\n",
       "2   Staten Island         seeds                      tomato        85  13.99\n",
       "3   Staten Island  garden tools                        rake         4  13.99\n",
       "4   Staten Island  garden tools                 wheelbarrow         0  89.99\n",
       "5   Staten Island  garden tools                       spade        93  19.99\n",
       "6   Staten Island  pest_control               insect killer        74  12.99\n",
       "7   Staten Island  pest_control                 weed killer         8  23.99\n",
       "8   Staten Island       planter  20 inch terracotta planter         0  17.99\n",
       "9   Staten Island       planter      8 inch plastic planter        53   3.99\n",
       "10       Brooklyn         seeds                       daisy        50   6.99\n",
       "11       Brooklyn         seeds                  calla lily         0  19.99\n",
       "12       Brooklyn         seeds                      tomato         0  13.99\n",
       "13       Brooklyn  garden tools                        rake        15  13.99\n",
       "14       Brooklyn  garden tools                 wheelbarrow        82  89.99\n",
       "15       Brooklyn  garden tools                       spade        36  19.99\n",
       "16       Brooklyn  pest_control               insect killer        80  12.99\n",
       "17       Brooklyn  pest_control                 weed killer        76  23.99\n",
       "18       Brooklyn       planter  20 inch terracotta planter         5  17.99\n",
       "19       Brooklyn       planter      8 inch plastic planter        26   3.99\n",
       "20         Queens         seeds                       daisy        57   6.99\n",
       "21         Queens         seeds                  calla lily        95  19.99\n",
       "22         Queens         seeds                      tomato        45  13.99\n",
       "23         Queens  garden tools                        rake        21  13.99\n",
       "24         Queens  garden tools                 wheelbarrow        98  89.99\n",
       "25         Queens  garden tools                       spade        26  19.99\n",
       "26         Queens  pest_control               insect killer         0  12.99\n",
       "27         Queens  pest_control                 weed killer        16  23.99\n",
       "28         Queens       planter  20 inch terracotta planter        87  17.99"
      ]
     },
     "execution_count": 185,
     "metadata": {},
     "output_type": "execute_result"
    }
   ],
   "source": [
    "df"
   ]
  },
  {
   "cell_type": "markdown",
   "id": "5fb3051e",
   "metadata": {},
   "source": [
    "## Summarizing Data\n",
    "\n",
    "* shape - shows number of rows and columns\n",
    "* ndim - number of axes/array dimensions\n",
    "* size - number of rows * number of columns\n",
    "* empty - true if the dataframe is empty\n",
    "* axes - a list of the row axis labels and column axis labels\n",
    "\n"
   ]
  },
  {
   "cell_type": "code",
   "execution_count": 9,
   "id": "857c33b0",
   "metadata": {},
   "outputs": [
    {
     "data": {
      "text/plain": [
       "(29, 5)"
      ]
     },
     "execution_count": 9,
     "metadata": {},
     "output_type": "execute_result"
    }
   ],
   "source": [
    "df.shape\n",
    "\n",
    "#rows , columns"
   ]
  },
  {
   "cell_type": "code",
   "execution_count": 186,
   "id": "fc7d7f7c",
   "metadata": {},
   "outputs": [
    {
     "data": {
      "text/plain": [
       "2"
      ]
     },
     "execution_count": 186,
     "metadata": {},
     "output_type": "execute_result"
    }
   ],
   "source": [
    "df.ndim\n",
    "\n",
    "# number of dimensions (x,y)"
   ]
  },
  {
   "cell_type": "code",
   "execution_count": 188,
   "id": "4f60592e",
   "metadata": {},
   "outputs": [
    {
     "data": {
      "text/plain": [
       "145"
      ]
     },
     "execution_count": 188,
     "metadata": {},
     "output_type": "execute_result"
    }
   ],
   "source": [
    "df.size\n",
    "\n",
    "# length x width"
   ]
  },
  {
   "cell_type": "code",
   "execution_count": 189,
   "id": "bb7e4f3b",
   "metadata": {},
   "outputs": [
    {
     "data": {
      "text/plain": [
       "False"
      ]
     },
     "execution_count": 189,
     "metadata": {},
     "output_type": "execute_result"
    }
   ],
   "source": [
    "df.empty\n",
    "\n",
    "# df is not empty"
   ]
  },
  {
   "cell_type": "code",
   "execution_count": 190,
   "id": "a638c396",
   "metadata": {},
   "outputs": [
    {
     "data": {
      "text/plain": [
       "[RangeIndex(start=0, stop=29, step=1),\n",
       " Index(['location', 'product_type', 'product_description', 'quantity', 'price'], dtype='object')]"
      ]
     },
     "execution_count": 190,
     "metadata": {},
     "output_type": "execute_result"
    }
   ],
   "source": [
    "df.axes\n",
    "\n",
    "# returns a list with the row axis labels, and the column axis labels, in that order."
   ]
  },
  {
   "cell_type": "markdown",
   "id": "248204ff",
   "metadata": {},
   "source": [
    "## Descriptive Statistics\n",
    "\n",
    "* ```df.sum()``` - totals each individual column (strings are appended)\n",
    "* ```df.mean()``` - returns the average value of numeric columns\n",
    "* ```df.std()``` - returns the standard deviation of numeric columns\n",
    "* ```df.describe()``` - returns a complete table of summary statistics (mean, std, min, max, quartiles)\n",
    "* ```df.median()``` - returns the median of values\n",
    "\n"
   ]
  },
  {
   "cell_type": "code",
   "execution_count": 191,
   "id": "76faac80",
   "metadata": {},
   "outputs": [
    {
     "data": {
      "text/plain": [
       "location               Staten IslandStaten IslandStaten IslandStaten ...\n",
       "product_type           seedsseedsseedsgarden toolsgarden toolsgarden ...\n",
       "product_description    daisycalla lilytomatorakewheelbarrowspadeinsec...\n",
       "quantity                                                            1182\n",
       "price                                                             667.71\n",
       "dtype: object"
      ]
     },
     "execution_count": 191,
     "metadata": {},
     "output_type": "execute_result"
    }
   ],
   "source": [
    "df.sum()\n",
    "\n",
    "# a specific column is not given so will compute sum of all the columns"
   ]
  },
  {
   "cell_type": "code",
   "execution_count": 15,
   "id": "542f4821",
   "metadata": {},
   "outputs": [
    {
     "name": "stderr",
     "output_type": "stream",
     "text": [
      "/var/folders/f5/yd2mlj396l3389w8qf24ftmm0000gn/T/ipykernel_4907/3698961737.py:1: FutureWarning: Dropping of nuisance columns in DataFrame reductions (with 'numeric_only=None') is deprecated; in a future version this will raise TypeError.  Select only valid columns before calling the reduction.\n",
      "  df.mean()\n"
     ]
    },
    {
     "data": {
      "text/plain": [
       "quantity    40.758621\n",
       "price       23.024483\n",
       "dtype: float64"
      ]
     },
     "execution_count": 15,
     "metadata": {},
     "output_type": "execute_result"
    }
   ],
   "source": [
    "df.mean()"
   ]
  },
  {
   "cell_type": "code",
   "execution_count": 131,
   "id": "25c9c9d1",
   "metadata": {},
   "outputs": [
    {
     "data": {
      "text/plain": [
       "23.024482758620696"
      ]
     },
     "execution_count": 131,
     "metadata": {},
     "output_type": "execute_result"
    }
   ],
   "source": [
    "df['price'].mean()"
   ]
  },
  {
   "cell_type": "code",
   "execution_count": 192,
   "id": "fd2a18cf",
   "metadata": {},
   "outputs": [
    {
     "data": {
      "text/plain": [
       "35.18385909599314"
      ]
     },
     "execution_count": 192,
     "metadata": {},
     "output_type": "execute_result"
    }
   ],
   "source": [
    "df['quantity'].std()"
   ]
  },
  {
   "cell_type": "code",
   "execution_count": 194,
   "id": "a4269549",
   "metadata": {},
   "outputs": [
    {
     "data": {
      "text/html": [
       "<div>\n",
       "<style scoped>\n",
       "    .dataframe tbody tr th:only-of-type {\n",
       "        vertical-align: middle;\n",
       "    }\n",
       "\n",
       "    .dataframe tbody tr th {\n",
       "        vertical-align: top;\n",
       "    }\n",
       "\n",
       "    .dataframe thead th {\n",
       "        text-align: right;\n",
       "    }\n",
       "</style>\n",
       "<table border=\"1\" class=\"dataframe\">\n",
       "  <thead>\n",
       "    <tr style=\"text-align: right;\">\n",
       "      <th></th>\n",
       "      <th>quantity</th>\n",
       "      <th>price</th>\n",
       "    </tr>\n",
       "  </thead>\n",
       "  <tbody>\n",
       "    <tr>\n",
       "      <th>count</th>\n",
       "      <td>29.000000</td>\n",
       "      <td>29.000000</td>\n",
       "    </tr>\n",
       "    <tr>\n",
       "      <th>mean</th>\n",
       "      <td>40.758621</td>\n",
       "      <td>23.024483</td>\n",
       "    </tr>\n",
       "    <tr>\n",
       "      <th>std</th>\n",
       "      <td>35.183859</td>\n",
       "      <td>23.810986</td>\n",
       "    </tr>\n",
       "    <tr>\n",
       "      <th>min</th>\n",
       "      <td>0.000000</td>\n",
       "      <td>3.990000</td>\n",
       "    </tr>\n",
       "    <tr>\n",
       "      <th>25%</th>\n",
       "      <td>5.000000</td>\n",
       "      <td>12.990000</td>\n",
       "    </tr>\n",
       "    <tr>\n",
       "      <th>50%</th>\n",
       "      <td>36.000000</td>\n",
       "      <td>17.990000</td>\n",
       "    </tr>\n",
       "    <tr>\n",
       "      <th>75%</th>\n",
       "      <td>76.000000</td>\n",
       "      <td>19.990000</td>\n",
       "    </tr>\n",
       "    <tr>\n",
       "      <th>max</th>\n",
       "      <td>98.000000</td>\n",
       "      <td>89.990000</td>\n",
       "    </tr>\n",
       "  </tbody>\n",
       "</table>\n",
       "</div>"
      ],
      "text/plain": [
       "        quantity      price\n",
       "count  29.000000  29.000000\n",
       "mean   40.758621  23.024483\n",
       "std    35.183859  23.810986\n",
       "min     0.000000   3.990000\n",
       "25%     5.000000  12.990000\n",
       "50%    36.000000  17.990000\n",
       "75%    76.000000  19.990000\n",
       "max    98.000000  89.990000"
      ]
     },
     "execution_count": 194,
     "metadata": {},
     "output_type": "execute_result"
    }
   ],
   "source": [
    "df.describe()\n",
    "\n",
    "# summary of descriptive statistics"
   ]
  },
  {
   "cell_type": "code",
   "execution_count": 21,
   "id": "be7a1c62",
   "metadata": {},
   "outputs": [
    {
     "name": "stderr",
     "output_type": "stream",
     "text": [
      "/var/folders/f5/yd2mlj396l3389w8qf24ftmm0000gn/T/ipykernel_4907/530051474.py:1: FutureWarning: Dropping of nuisance columns in DataFrame reductions (with 'numeric_only=None') is deprecated; in a future version this will raise TypeError.  Select only valid columns before calling the reduction.\n",
      "  df.median()\n"
     ]
    },
    {
     "data": {
      "text/plain": [
       "quantity    36.00\n",
       "price       17.99\n",
       "dtype: float64"
      ]
     },
     "execution_count": 21,
     "metadata": {},
     "output_type": "execute_result"
    }
   ],
   "source": [
    "df.median()"
   ]
  },
  {
   "cell_type": "markdown",
   "id": "ee7a6260",
   "metadata": {},
   "source": [
    "## Sorting\n",
    "\n",
    "* df.sort_index(axis, ascending)\n",
    "    * axis - 0 sort by row (default), 1 sort by column\n",
    "    * ascending - True sort ascending, False sort descending\n"
   ]
  },
  {
   "cell_type": "code",
   "execution_count": 195,
   "id": "3c10c89a",
   "metadata": {},
   "outputs": [
    {
     "data": {
      "text/html": [
       "<div>\n",
       "<style scoped>\n",
       "    .dataframe tbody tr th:only-of-type {\n",
       "        vertical-align: middle;\n",
       "    }\n",
       "\n",
       "    .dataframe tbody tr th {\n",
       "        vertical-align: top;\n",
       "    }\n",
       "\n",
       "    .dataframe thead th {\n",
       "        text-align: right;\n",
       "    }\n",
       "</style>\n",
       "<table border=\"1\" class=\"dataframe\">\n",
       "  <thead>\n",
       "    <tr style=\"text-align: right;\">\n",
       "      <th></th>\n",
       "      <th>Product</th>\n",
       "      <th>Price</th>\n",
       "    </tr>\n",
       "  </thead>\n",
       "  <tbody>\n",
       "    <tr>\n",
       "      <th>0</th>\n",
       "      <td>Computer</td>\n",
       "      <td>1100</td>\n",
       "    </tr>\n",
       "    <tr>\n",
       "      <th>1</th>\n",
       "      <td>Printer</td>\n",
       "      <td>150</td>\n",
       "    </tr>\n",
       "    <tr>\n",
       "      <th>2</th>\n",
       "      <td>Monitor</td>\n",
       "      <td>500</td>\n",
       "    </tr>\n",
       "    <tr>\n",
       "      <th>3</th>\n",
       "      <td>Desk</td>\n",
       "      <td>350</td>\n",
       "    </tr>\n",
       "    <tr>\n",
       "      <th>4</th>\n",
       "      <td>Phone</td>\n",
       "      <td>100</td>\n",
       "    </tr>\n",
       "    <tr>\n",
       "      <th>5</th>\n",
       "      <td>Tablet</td>\n",
       "      <td>300</td>\n",
       "    </tr>\n",
       "    <tr>\n",
       "      <th>6</th>\n",
       "      <td>Scanner</td>\n",
       "      <td>120</td>\n",
       "    </tr>\n",
       "  </tbody>\n",
       "</table>\n",
       "</div>"
      ],
      "text/plain": [
       "    Product  Price\n",
       "0  Computer   1100\n",
       "1   Printer    150\n",
       "2   Monitor    500\n",
       "3      Desk    350\n",
       "4     Phone    100\n",
       "5    Tablet    300\n",
       "6   Scanner    120"
      ]
     },
     "execution_count": 195,
     "metadata": {},
     "output_type": "execute_result"
    }
   ],
   "source": [
    "data = {'Product': ['Computer','Printer','Monitor','Desk','Phone','Tablet','Scanner'],\n",
    "          'Price': [1100,150,500,350,100,300,120]\n",
    "        }\n",
    "\n",
    "df2 = pd.DataFrame(data, columns = ['Product','Price'])\n",
    "\n",
    "df2"
   ]
  },
  {
   "cell_type": "code",
   "execution_count": 196,
   "id": "0d4125c7",
   "metadata": {},
   "outputs": [
    {
     "data": {
      "text/html": [
       "<div>\n",
       "<style scoped>\n",
       "    .dataframe tbody tr th:only-of-type {\n",
       "        vertical-align: middle;\n",
       "    }\n",
       "\n",
       "    .dataframe tbody tr th {\n",
       "        vertical-align: top;\n",
       "    }\n",
       "\n",
       "    .dataframe thead th {\n",
       "        text-align: right;\n",
       "    }\n",
       "</style>\n",
       "<table border=\"1\" class=\"dataframe\">\n",
       "  <thead>\n",
       "    <tr style=\"text-align: right;\">\n",
       "      <th></th>\n",
       "      <th>Product</th>\n",
       "      <th>Price</th>\n",
       "    </tr>\n",
       "  </thead>\n",
       "  <tbody>\n",
       "    <tr>\n",
       "      <th>0</th>\n",
       "      <td>Computer</td>\n",
       "      <td>1100</td>\n",
       "    </tr>\n",
       "    <tr>\n",
       "      <th>1</th>\n",
       "      <td>Printer</td>\n",
       "      <td>150</td>\n",
       "    </tr>\n",
       "    <tr>\n",
       "      <th>2</th>\n",
       "      <td>Monitor</td>\n",
       "      <td>500</td>\n",
       "    </tr>\n",
       "    <tr>\n",
       "      <th>3</th>\n",
       "      <td>Desk</td>\n",
       "      <td>350</td>\n",
       "    </tr>\n",
       "    <tr>\n",
       "      <th>4</th>\n",
       "      <td>Phone</td>\n",
       "      <td>100</td>\n",
       "    </tr>\n",
       "    <tr>\n",
       "      <th>5</th>\n",
       "      <td>Tablet</td>\n",
       "      <td>300</td>\n",
       "    </tr>\n",
       "    <tr>\n",
       "      <th>6</th>\n",
       "      <td>Scanner</td>\n",
       "      <td>120</td>\n",
       "    </tr>\n",
       "  </tbody>\n",
       "</table>\n",
       "</div>"
      ],
      "text/plain": [
       "    Product  Price\n",
       "0  Computer   1100\n",
       "1   Printer    150\n",
       "2   Monitor    500\n",
       "3      Desk    350\n",
       "4     Phone    100\n",
       "5    Tablet    300\n",
       "6   Scanner    120"
      ]
     },
     "execution_count": 196,
     "metadata": {},
     "output_type": "execute_result"
    }
   ],
   "source": [
    "df2.sort_index()"
   ]
  },
  {
   "cell_type": "code",
   "execution_count": 197,
   "id": "6d9247fe",
   "metadata": {},
   "outputs": [
    {
     "data": {
      "text/html": [
       "<div>\n",
       "<style scoped>\n",
       "    .dataframe tbody tr th:only-of-type {\n",
       "        vertical-align: middle;\n",
       "    }\n",
       "\n",
       "    .dataframe tbody tr th {\n",
       "        vertical-align: top;\n",
       "    }\n",
       "\n",
       "    .dataframe thead th {\n",
       "        text-align: right;\n",
       "    }\n",
       "</style>\n",
       "<table border=\"1\" class=\"dataframe\">\n",
       "  <thead>\n",
       "    <tr style=\"text-align: right;\">\n",
       "      <th></th>\n",
       "      <th>Product</th>\n",
       "      <th>Price</th>\n",
       "    </tr>\n",
       "  </thead>\n",
       "  <tbody>\n",
       "    <tr>\n",
       "      <th>6</th>\n",
       "      <td>Scanner</td>\n",
       "      <td>120</td>\n",
       "    </tr>\n",
       "    <tr>\n",
       "      <th>5</th>\n",
       "      <td>Tablet</td>\n",
       "      <td>300</td>\n",
       "    </tr>\n",
       "    <tr>\n",
       "      <th>4</th>\n",
       "      <td>Phone</td>\n",
       "      <td>100</td>\n",
       "    </tr>\n",
       "    <tr>\n",
       "      <th>3</th>\n",
       "      <td>Desk</td>\n",
       "      <td>350</td>\n",
       "    </tr>\n",
       "    <tr>\n",
       "      <th>2</th>\n",
       "      <td>Monitor</td>\n",
       "      <td>500</td>\n",
       "    </tr>\n",
       "    <tr>\n",
       "      <th>1</th>\n",
       "      <td>Printer</td>\n",
       "      <td>150</td>\n",
       "    </tr>\n",
       "    <tr>\n",
       "      <th>0</th>\n",
       "      <td>Computer</td>\n",
       "      <td>1100</td>\n",
       "    </tr>\n",
       "  </tbody>\n",
       "</table>\n",
       "</div>"
      ],
      "text/plain": [
       "    Product  Price\n",
       "6   Scanner    120\n",
       "5    Tablet    300\n",
       "4     Phone    100\n",
       "3      Desk    350\n",
       "2   Monitor    500\n",
       "1   Printer    150\n",
       "0  Computer   1100"
      ]
     },
     "execution_count": 197,
     "metadata": {},
     "output_type": "execute_result"
    }
   ],
   "source": [
    "df2.sort_index(ascending = False)"
   ]
  },
  {
   "cell_type": "markdown",
   "id": "1d7f05cb",
   "metadata": {},
   "source": [
    "By default, the index is sorted in an ascending order:\n",
    "\n",
    "\n",
    "Let’s replace the default index values with the following unsorted values:\n",
    "\n",
    "\n"
   ]
  },
  {
   "cell_type": "code",
   "execution_count": 46,
   "id": "97ebad9a",
   "metadata": {},
   "outputs": [],
   "source": [
    "index = ['Item_D','Item_B','Item_A','Item_C','Item_F','Item_G','Item_E']\n"
   ]
  },
  {
   "cell_type": "code",
   "execution_count": 199,
   "id": "02024ae7",
   "metadata": {},
   "outputs": [
    {
     "data": {
      "text/html": [
       "<div>\n",
       "<style scoped>\n",
       "    .dataframe tbody tr th:only-of-type {\n",
       "        vertical-align: middle;\n",
       "    }\n",
       "\n",
       "    .dataframe tbody tr th {\n",
       "        vertical-align: top;\n",
       "    }\n",
       "\n",
       "    .dataframe thead th {\n",
       "        text-align: right;\n",
       "    }\n",
       "</style>\n",
       "<table border=\"1\" class=\"dataframe\">\n",
       "  <thead>\n",
       "    <tr style=\"text-align: right;\">\n",
       "      <th></th>\n",
       "      <th>Product</th>\n",
       "      <th>Price</th>\n",
       "    </tr>\n",
       "  </thead>\n",
       "  <tbody>\n",
       "    <tr>\n",
       "      <th>Item_D</th>\n",
       "      <td>Computer</td>\n",
       "      <td>1100</td>\n",
       "    </tr>\n",
       "    <tr>\n",
       "      <th>Item_B</th>\n",
       "      <td>Printer</td>\n",
       "      <td>150</td>\n",
       "    </tr>\n",
       "    <tr>\n",
       "      <th>Item_A</th>\n",
       "      <td>Monitor</td>\n",
       "      <td>500</td>\n",
       "    </tr>\n",
       "    <tr>\n",
       "      <th>Item_C</th>\n",
       "      <td>Desk</td>\n",
       "      <td>350</td>\n",
       "    </tr>\n",
       "    <tr>\n",
       "      <th>Item_F</th>\n",
       "      <td>Phone</td>\n",
       "      <td>100</td>\n",
       "    </tr>\n",
       "    <tr>\n",
       "      <th>Item_G</th>\n",
       "      <td>Tablet</td>\n",
       "      <td>300</td>\n",
       "    </tr>\n",
       "    <tr>\n",
       "      <th>Item_E</th>\n",
       "      <td>Scanner</td>\n",
       "      <td>120</td>\n",
       "    </tr>\n",
       "  </tbody>\n",
       "</table>\n",
       "</div>"
      ],
      "text/plain": [
       "         Product  Price\n",
       "Item_D  Computer   1100\n",
       "Item_B   Printer    150\n",
       "Item_A   Monitor    500\n",
       "Item_C      Desk    350\n",
       "Item_F     Phone    100\n",
       "Item_G    Tablet    300\n",
       "Item_E   Scanner    120"
      ]
     },
     "execution_count": 199,
     "metadata": {},
     "output_type": "execute_result"
    }
   ],
   "source": [
    "data = {'Product': ['Computer','Printer','Monitor','Desk','Phone','Tablet','Scanner'],\n",
    "          'Price': [1100,150,500,350,100,300,120]\n",
    "        }\n",
    "\n",
    "df2 = pd.DataFrame(data, columns = ['Product','Price'], index = ['Item_D','Item_B','Item_A','Item_C','Item_F','Item_G','Item_E'])\n",
    "\n",
    "df2"
   ]
  },
  {
   "cell_type": "code",
   "execution_count": 201,
   "id": "9cb8e95a",
   "metadata": {},
   "outputs": [
    {
     "data": {
      "text/html": [
       "<div>\n",
       "<style scoped>\n",
       "    .dataframe tbody tr th:only-of-type {\n",
       "        vertical-align: middle;\n",
       "    }\n",
       "\n",
       "    .dataframe tbody tr th {\n",
       "        vertical-align: top;\n",
       "    }\n",
       "\n",
       "    .dataframe thead th {\n",
       "        text-align: right;\n",
       "    }\n",
       "</style>\n",
       "<table border=\"1\" class=\"dataframe\">\n",
       "  <thead>\n",
       "    <tr style=\"text-align: right;\">\n",
       "      <th></th>\n",
       "      <th>Product</th>\n",
       "      <th>Price</th>\n",
       "    </tr>\n",
       "  </thead>\n",
       "  <tbody>\n",
       "    <tr>\n",
       "      <th>Item_A</th>\n",
       "      <td>Monitor</td>\n",
       "      <td>500</td>\n",
       "    </tr>\n",
       "    <tr>\n",
       "      <th>Item_B</th>\n",
       "      <td>Printer</td>\n",
       "      <td>150</td>\n",
       "    </tr>\n",
       "    <tr>\n",
       "      <th>Item_C</th>\n",
       "      <td>Desk</td>\n",
       "      <td>350</td>\n",
       "    </tr>\n",
       "    <tr>\n",
       "      <th>Item_D</th>\n",
       "      <td>Computer</td>\n",
       "      <td>1100</td>\n",
       "    </tr>\n",
       "    <tr>\n",
       "      <th>Item_E</th>\n",
       "      <td>Scanner</td>\n",
       "      <td>120</td>\n",
       "    </tr>\n",
       "    <tr>\n",
       "      <th>Item_F</th>\n",
       "      <td>Phone</td>\n",
       "      <td>100</td>\n",
       "    </tr>\n",
       "    <tr>\n",
       "      <th>Item_G</th>\n",
       "      <td>Tablet</td>\n",
       "      <td>300</td>\n",
       "    </tr>\n",
       "  </tbody>\n",
       "</table>\n",
       "</div>"
      ],
      "text/plain": [
       "         Product  Price\n",
       "Item_A   Monitor    500\n",
       "Item_B   Printer    150\n",
       "Item_C      Desk    350\n",
       "Item_D  Computer   1100\n",
       "Item_E   Scanner    120\n",
       "Item_F     Phone    100\n",
       "Item_G    Tablet    300"
      ]
     },
     "execution_count": 201,
     "metadata": {},
     "output_type": "execute_result"
    }
   ],
   "source": [
    "df2.sort_index(ascending = True)"
   ]
  },
  {
   "cell_type": "markdown",
   "id": "479b64c2",
   "metadata": {},
   "source": [
    "## Selection\n",
    "\n",
    "Will automatically include the index column\n",
    "\n",
    "One column selected with the index is called a series"
   ]
  },
  {
   "cell_type": "code",
   "execution_count": 203,
   "id": "0d53a497",
   "metadata": {},
   "outputs": [
    {
     "data": {
      "text/plain": [
       "0            seeds\n",
       "1            seeds\n",
       "2            seeds\n",
       "3     garden tools\n",
       "4     garden tools\n",
       "5     garden tools\n",
       "6     pest_control\n",
       "7     pest_control\n",
       "8          planter\n",
       "9          planter\n",
       "10           seeds\n",
       "11           seeds\n",
       "12           seeds\n",
       "13    garden tools\n",
       "14    garden tools\n",
       "15    garden tools\n",
       "16    pest_control\n",
       "17    pest_control\n",
       "18         planter\n",
       "19         planter\n",
       "20           seeds\n",
       "21           seeds\n",
       "22           seeds\n",
       "23    garden tools\n",
       "24    garden tools\n",
       "25    garden tools\n",
       "26    pest_control\n",
       "27    pest_control\n",
       "28         planter\n",
       "Name: product_type, dtype: object"
      ]
     },
     "execution_count": 203,
     "metadata": {},
     "output_type": "execute_result"
    }
   ],
   "source": [
    "df['product_type']"
   ]
  },
  {
   "cell_type": "code",
   "execution_count": 204,
   "id": "85b7107e",
   "metadata": {},
   "outputs": [
    {
     "data": {
      "text/html": [
       "<div>\n",
       "<style scoped>\n",
       "    .dataframe tbody tr th:only-of-type {\n",
       "        vertical-align: middle;\n",
       "    }\n",
       "\n",
       "    .dataframe tbody tr th {\n",
       "        vertical-align: top;\n",
       "    }\n",
       "\n",
       "    .dataframe thead th {\n",
       "        text-align: right;\n",
       "    }\n",
       "</style>\n",
       "<table border=\"1\" class=\"dataframe\">\n",
       "  <thead>\n",
       "    <tr style=\"text-align: right;\">\n",
       "      <th></th>\n",
       "      <th>location</th>\n",
       "      <th>product_type</th>\n",
       "      <th>product_description</th>\n",
       "      <th>quantity</th>\n",
       "      <th>price</th>\n",
       "    </tr>\n",
       "  </thead>\n",
       "  <tbody>\n",
       "    <tr>\n",
       "      <th>0</th>\n",
       "      <td>Staten Island</td>\n",
       "      <td>seeds</td>\n",
       "      <td>daisy</td>\n",
       "      <td>4</td>\n",
       "      <td>6.99</td>\n",
       "    </tr>\n",
       "    <tr>\n",
       "      <th>1</th>\n",
       "      <td>Staten Island</td>\n",
       "      <td>seeds</td>\n",
       "      <td>calla lily</td>\n",
       "      <td>46</td>\n",
       "      <td>19.99</td>\n",
       "    </tr>\n",
       "    <tr>\n",
       "      <th>2</th>\n",
       "      <td>Staten Island</td>\n",
       "      <td>seeds</td>\n",
       "      <td>tomato</td>\n",
       "      <td>85</td>\n",
       "      <td>13.99</td>\n",
       "    </tr>\n",
       "    <tr>\n",
       "      <th>3</th>\n",
       "      <td>Staten Island</td>\n",
       "      <td>garden tools</td>\n",
       "      <td>rake</td>\n",
       "      <td>4</td>\n",
       "      <td>13.99</td>\n",
       "    </tr>\n",
       "    <tr>\n",
       "      <th>4</th>\n",
       "      <td>Staten Island</td>\n",
       "      <td>garden tools</td>\n",
       "      <td>wheelbarrow</td>\n",
       "      <td>0</td>\n",
       "      <td>89.99</td>\n",
       "    </tr>\n",
       "  </tbody>\n",
       "</table>\n",
       "</div>"
      ],
      "text/plain": [
       "        location  product_type product_description  quantity  price\n",
       "0  Staten Island         seeds               daisy         4   6.99\n",
       "1  Staten Island         seeds          calla lily        46  19.99\n",
       "2  Staten Island         seeds              tomato        85  13.99\n",
       "3  Staten Island  garden tools                rake         4  13.99\n",
       "4  Staten Island  garden tools         wheelbarrow         0  89.99"
      ]
     },
     "execution_count": 204,
     "metadata": {},
     "output_type": "execute_result"
    }
   ],
   "source": [
    "df.head()"
   ]
  },
  {
   "cell_type": "markdown",
   "id": "73b0428c",
   "metadata": {},
   "source": [
    "## Selection by Label"
   ]
  },
  {
   "cell_type": "code",
   "execution_count": 205,
   "id": "aae97f41",
   "metadata": {},
   "outputs": [
    {
     "data": {
      "text/html": [
       "<div>\n",
       "<style scoped>\n",
       "    .dataframe tbody tr th:only-of-type {\n",
       "        vertical-align: middle;\n",
       "    }\n",
       "\n",
       "    .dataframe tbody tr th {\n",
       "        vertical-align: top;\n",
       "    }\n",
       "\n",
       "    .dataframe thead th {\n",
       "        text-align: right;\n",
       "    }\n",
       "</style>\n",
       "<table border=\"1\" class=\"dataframe\">\n",
       "  <thead>\n",
       "    <tr style=\"text-align: right;\">\n",
       "      <th></th>\n",
       "      <th>location</th>\n",
       "      <th>product_type</th>\n",
       "    </tr>\n",
       "  </thead>\n",
       "  <tbody>\n",
       "    <tr>\n",
       "      <th>0</th>\n",
       "      <td>Staten Island</td>\n",
       "      <td>seeds</td>\n",
       "    </tr>\n",
       "    <tr>\n",
       "      <th>1</th>\n",
       "      <td>Staten Island</td>\n",
       "      <td>seeds</td>\n",
       "    </tr>\n",
       "    <tr>\n",
       "      <th>2</th>\n",
       "      <td>Staten Island</td>\n",
       "      <td>seeds</td>\n",
       "    </tr>\n",
       "    <tr>\n",
       "      <th>3</th>\n",
       "      <td>Staten Island</td>\n",
       "      <td>garden tools</td>\n",
       "    </tr>\n",
       "    <tr>\n",
       "      <th>4</th>\n",
       "      <td>Staten Island</td>\n",
       "      <td>garden tools</td>\n",
       "    </tr>\n",
       "    <tr>\n",
       "      <th>5</th>\n",
       "      <td>Staten Island</td>\n",
       "      <td>garden tools</td>\n",
       "    </tr>\n",
       "    <tr>\n",
       "      <th>6</th>\n",
       "      <td>Staten Island</td>\n",
       "      <td>pest_control</td>\n",
       "    </tr>\n",
       "    <tr>\n",
       "      <th>7</th>\n",
       "      <td>Staten Island</td>\n",
       "      <td>pest_control</td>\n",
       "    </tr>\n",
       "    <tr>\n",
       "      <th>8</th>\n",
       "      <td>Staten Island</td>\n",
       "      <td>planter</td>\n",
       "    </tr>\n",
       "    <tr>\n",
       "      <th>9</th>\n",
       "      <td>Staten Island</td>\n",
       "      <td>planter</td>\n",
       "    </tr>\n",
       "    <tr>\n",
       "      <th>10</th>\n",
       "      <td>Brooklyn</td>\n",
       "      <td>seeds</td>\n",
       "    </tr>\n",
       "    <tr>\n",
       "      <th>11</th>\n",
       "      <td>Brooklyn</td>\n",
       "      <td>seeds</td>\n",
       "    </tr>\n",
       "    <tr>\n",
       "      <th>12</th>\n",
       "      <td>Brooklyn</td>\n",
       "      <td>seeds</td>\n",
       "    </tr>\n",
       "    <tr>\n",
       "      <th>13</th>\n",
       "      <td>Brooklyn</td>\n",
       "      <td>garden tools</td>\n",
       "    </tr>\n",
       "    <tr>\n",
       "      <th>14</th>\n",
       "      <td>Brooklyn</td>\n",
       "      <td>garden tools</td>\n",
       "    </tr>\n",
       "    <tr>\n",
       "      <th>15</th>\n",
       "      <td>Brooklyn</td>\n",
       "      <td>garden tools</td>\n",
       "    </tr>\n",
       "    <tr>\n",
       "      <th>16</th>\n",
       "      <td>Brooklyn</td>\n",
       "      <td>pest_control</td>\n",
       "    </tr>\n",
       "    <tr>\n",
       "      <th>17</th>\n",
       "      <td>Brooklyn</td>\n",
       "      <td>pest_control</td>\n",
       "    </tr>\n",
       "    <tr>\n",
       "      <th>18</th>\n",
       "      <td>Brooklyn</td>\n",
       "      <td>planter</td>\n",
       "    </tr>\n",
       "    <tr>\n",
       "      <th>19</th>\n",
       "      <td>Brooklyn</td>\n",
       "      <td>planter</td>\n",
       "    </tr>\n",
       "    <tr>\n",
       "      <th>20</th>\n",
       "      <td>Queens</td>\n",
       "      <td>seeds</td>\n",
       "    </tr>\n",
       "    <tr>\n",
       "      <th>21</th>\n",
       "      <td>Queens</td>\n",
       "      <td>seeds</td>\n",
       "    </tr>\n",
       "    <tr>\n",
       "      <th>22</th>\n",
       "      <td>Queens</td>\n",
       "      <td>seeds</td>\n",
       "    </tr>\n",
       "    <tr>\n",
       "      <th>23</th>\n",
       "      <td>Queens</td>\n",
       "      <td>garden tools</td>\n",
       "    </tr>\n",
       "    <tr>\n",
       "      <th>24</th>\n",
       "      <td>Queens</td>\n",
       "      <td>garden tools</td>\n",
       "    </tr>\n",
       "    <tr>\n",
       "      <th>25</th>\n",
       "      <td>Queens</td>\n",
       "      <td>garden tools</td>\n",
       "    </tr>\n",
       "    <tr>\n",
       "      <th>26</th>\n",
       "      <td>Queens</td>\n",
       "      <td>pest_control</td>\n",
       "    </tr>\n",
       "    <tr>\n",
       "      <th>27</th>\n",
       "      <td>Queens</td>\n",
       "      <td>pest_control</td>\n",
       "    </tr>\n",
       "    <tr>\n",
       "      <th>28</th>\n",
       "      <td>Queens</td>\n",
       "      <td>planter</td>\n",
       "    </tr>\n",
       "  </tbody>\n",
       "</table>\n",
       "</div>"
      ],
      "text/plain": [
       "         location  product_type\n",
       "0   Staten Island         seeds\n",
       "1   Staten Island         seeds\n",
       "2   Staten Island         seeds\n",
       "3   Staten Island  garden tools\n",
       "4   Staten Island  garden tools\n",
       "5   Staten Island  garden tools\n",
       "6   Staten Island  pest_control\n",
       "7   Staten Island  pest_control\n",
       "8   Staten Island       planter\n",
       "9   Staten Island       planter\n",
       "10       Brooklyn         seeds\n",
       "11       Brooklyn         seeds\n",
       "12       Brooklyn         seeds\n",
       "13       Brooklyn  garden tools\n",
       "14       Brooklyn  garden tools\n",
       "15       Brooklyn  garden tools\n",
       "16       Brooklyn  pest_control\n",
       "17       Brooklyn  pest_control\n",
       "18       Brooklyn       planter\n",
       "19       Brooklyn       planter\n",
       "20         Queens         seeds\n",
       "21         Queens         seeds\n",
       "22         Queens         seeds\n",
       "23         Queens  garden tools\n",
       "24         Queens  garden tools\n",
       "25         Queens  garden tools\n",
       "26         Queens  pest_control\n",
       "27         Queens  pest_control\n",
       "28         Queens       planter"
      ]
     },
     "execution_count": 205,
     "metadata": {},
     "output_type": "execute_result"
    }
   ],
   "source": [
    "df[['location','product_type']]\n",
    "\n",
    "# Why double brackets???   because the standard selection notation is []  and then we are putting a list inside \n",
    "# of those brackets....so now we have [[]]"
   ]
  },
  {
   "cell_type": "markdown",
   "id": "01992f59",
   "metadata": {},
   "source": [
    "## Sort the Index in an Ascending Order in Pandas DataFrame\n",
    "\n",
    "In order to sort the index in an ascending order, you’ll need to add the following syntax to the code:\n",
    "\n",
    "\n"
   ]
  },
  {
   "cell_type": "code",
   "execution_count": 51,
   "id": "8f79965d",
   "metadata": {},
   "outputs": [
    {
     "name": "stdout",
     "output_type": "stream",
     "text": [
      "         Product  Price\n",
      "Item_A   Monitor    500\n",
      "Item_B   Printer    150\n",
      "Item_C      Desk    350\n",
      "Item_D  Computer   1100\n",
      "Item_E   Scanner    120\n",
      "Item_F     Phone    100\n",
      "Item_G    Tablet    300\n"
     ]
    }
   ],
   "source": [
    "df2 = df2.sort_index()\n",
    "print(df2)\n"
   ]
  },
  {
   "cell_type": "code",
   "execution_count": 52,
   "id": "6a9de7eb",
   "metadata": {},
   "outputs": [
    {
     "name": "stdout",
     "output_type": "stream",
     "text": [
      "         Product  Price\n",
      "Item_G    Tablet    300\n",
      "Item_F     Phone    100\n",
      "Item_E   Scanner    120\n",
      "Item_D  Computer   1100\n",
      "Item_C      Desk    350\n",
      "Item_B   Printer    150\n",
      "Item_A   Monitor    500\n"
     ]
    }
   ],
   "source": [
    "df2 = df2.sort_index(ascending=False)\n",
    "print(df2)\n"
   ]
  },
  {
   "cell_type": "markdown",
   "id": "8acf2848",
   "metadata": {},
   "source": [
    "## Indexing and Selecting and Slicing\n",
    "\n",
    "\n",
    "* Label Based - ```df.loc```\n",
    "* Integer Based - ```df.iloc```\n",
    "\n",
    "\n",
    "Use Text\n",
    "```\n",
    "df.loc[row_start:row_end, [column_start, column_end]]\n",
    "```\n",
    "\n",
    "\n",
    "Use Numbers\n",
    "```\n",
    "df.iloc[row_start:row_end, [column_start, column_end]]\n",
    "```\n",
    "\n",
    "Note: in pandas version > = 0.20.0, ix is deprecated . Thus, useloc and iloc instead."
   ]
  },
  {
   "cell_type": "code",
   "execution_count": 206,
   "id": "9b8533ec",
   "metadata": {},
   "outputs": [
    {
     "name": "stdout",
     "output_type": "stream",
     "text": [
      "        location  product_type product_description  quantity  price\n",
      "0  Staten Island         seeds               daisy         4   6.99\n",
      "1  Staten Island         seeds          calla lily        46  19.99\n",
      "2  Staten Island         seeds              tomato        85  13.99\n",
      "3  Staten Island  garden tools                rake         4  13.99\n",
      "4  Staten Island  garden tools         wheelbarrow         0  89.99\n"
     ]
    }
   ],
   "source": [
    "print(df.head(5))"
   ]
  },
  {
   "cell_type": "code",
   "execution_count": 207,
   "id": "662888be",
   "metadata": {},
   "outputs": [
    {
     "data": {
      "text/plain": [
       "location               Staten Island\n",
       "product_type                   seeds\n",
       "product_description            daisy\n",
       "quantity                           4\n",
       "price                           6.99\n",
       "Name: 0, dtype: object"
      ]
     },
     "execution_count": 207,
     "metadata": {},
     "output_type": "execute_result"
    }
   ],
   "source": [
    "df.loc[0]"
   ]
  },
  {
   "cell_type": "code",
   "execution_count": 208,
   "id": "daae8645",
   "metadata": {},
   "outputs": [
    {
     "data": {
      "text/plain": [
       "location               Staten Island\n",
       "product_type                   seeds\n",
       "product_description            daisy\n",
       "quantity                           4\n",
       "price                           6.99\n",
       "Name: 0, dtype: object"
      ]
     },
     "execution_count": 208,
     "metadata": {},
     "output_type": "execute_result"
    }
   ],
   "source": [
    "df.iloc[0]"
   ]
  },
  {
   "cell_type": "code",
   "execution_count": 209,
   "id": "57af072b",
   "metadata": {},
   "outputs": [
    {
     "name": "stdout",
     "output_type": "stream",
     "text": [
      "         Product  Price\n",
      "Item_D  Computer   1100\n",
      "Item_B   Printer    150\n",
      "Item_A   Monitor    500\n",
      "Item_C      Desk    350\n",
      "Item_F     Phone    100\n",
      "Item_G    Tablet    300\n",
      "Item_E   Scanner    120\n"
     ]
    }
   ],
   "source": [
    "print(df2)"
   ]
  },
  {
   "cell_type": "code",
   "execution_count": 210,
   "id": "4ab9a094",
   "metadata": {},
   "outputs": [
    {
     "data": {
      "text/plain": [
       "Product    Computer\n",
       "Price          1100\n",
       "Name: Item_D, dtype: object"
      ]
     },
     "execution_count": 210,
     "metadata": {},
     "output_type": "execute_result"
    }
   ],
   "source": [
    "df2.iloc[0]"
   ]
  },
  {
   "cell_type": "code",
   "execution_count": 211,
   "id": "a798f88b",
   "metadata": {},
   "outputs": [
    {
     "data": {
      "text/plain": [
       "Product    Computer\n",
       "Price          1100\n",
       "Name: Item_D, dtype: object"
      ]
     },
     "execution_count": 211,
     "metadata": {},
     "output_type": "execute_result"
    }
   ],
   "source": [
    "df2.loc['Item_D']"
   ]
  },
  {
   "cell_type": "code",
   "execution_count": 212,
   "id": "375194b1",
   "metadata": {},
   "outputs": [
    {
     "data": {
      "text/html": [
       "<div>\n",
       "<style scoped>\n",
       "    .dataframe tbody tr th:only-of-type {\n",
       "        vertical-align: middle;\n",
       "    }\n",
       "\n",
       "    .dataframe tbody tr th {\n",
       "        vertical-align: top;\n",
       "    }\n",
       "\n",
       "    .dataframe thead th {\n",
       "        text-align: right;\n",
       "    }\n",
       "</style>\n",
       "<table border=\"1\" class=\"dataframe\">\n",
       "  <thead>\n",
       "    <tr style=\"text-align: right;\">\n",
       "      <th></th>\n",
       "      <th>location</th>\n",
       "      <th>product_type</th>\n",
       "      <th>product_description</th>\n",
       "      <th>quantity</th>\n",
       "      <th>price</th>\n",
       "    </tr>\n",
       "  </thead>\n",
       "  <tbody>\n",
       "    <tr>\n",
       "      <th>0</th>\n",
       "      <td>Staten Island</td>\n",
       "      <td>seeds</td>\n",
       "      <td>daisy</td>\n",
       "      <td>4</td>\n",
       "      <td>6.99</td>\n",
       "    </tr>\n",
       "    <tr>\n",
       "      <th>1</th>\n",
       "      <td>Staten Island</td>\n",
       "      <td>seeds</td>\n",
       "      <td>calla lily</td>\n",
       "      <td>46</td>\n",
       "      <td>19.99</td>\n",
       "    </tr>\n",
       "    <tr>\n",
       "      <th>2</th>\n",
       "      <td>Staten Island</td>\n",
       "      <td>seeds</td>\n",
       "      <td>tomato</td>\n",
       "      <td>85</td>\n",
       "      <td>13.99</td>\n",
       "    </tr>\n",
       "  </tbody>\n",
       "</table>\n",
       "</div>"
      ],
      "text/plain": [
       "        location product_type product_description  quantity  price\n",
       "0  Staten Island        seeds               daisy         4   6.99\n",
       "1  Staten Island        seeds          calla lily        46  19.99\n",
       "2  Staten Island        seeds              tomato        85  13.99"
      ]
     },
     "execution_count": 212,
     "metadata": {},
     "output_type": "execute_result"
    }
   ],
   "source": [
    "df.iloc[0:3]"
   ]
  },
  {
   "cell_type": "code",
   "execution_count": 214,
   "id": "94c7e4f8",
   "metadata": {},
   "outputs": [
    {
     "data": {
      "text/html": [
       "<div>\n",
       "<style scoped>\n",
       "    .dataframe tbody tr th:only-of-type {\n",
       "        vertical-align: middle;\n",
       "    }\n",
       "\n",
       "    .dataframe tbody tr th {\n",
       "        vertical-align: top;\n",
       "    }\n",
       "\n",
       "    .dataframe thead th {\n",
       "        text-align: right;\n",
       "    }\n",
       "</style>\n",
       "<table border=\"1\" class=\"dataframe\">\n",
       "  <thead>\n",
       "    <tr style=\"text-align: right;\">\n",
       "      <th></th>\n",
       "      <th>Product</th>\n",
       "      <th>Price</th>\n",
       "    </tr>\n",
       "  </thead>\n",
       "  <tbody>\n",
       "    <tr>\n",
       "      <th>Item_D</th>\n",
       "      <td>Computer</td>\n",
       "      <td>1100</td>\n",
       "    </tr>\n",
       "    <tr>\n",
       "      <th>Item_B</th>\n",
       "      <td>Printer</td>\n",
       "      <td>150</td>\n",
       "    </tr>\n",
       "    <tr>\n",
       "      <th>Item_A</th>\n",
       "      <td>Monitor</td>\n",
       "      <td>500</td>\n",
       "    </tr>\n",
       "    <tr>\n",
       "      <th>Item_C</th>\n",
       "      <td>Desk</td>\n",
       "      <td>350</td>\n",
       "    </tr>\n",
       "    <tr>\n",
       "      <th>Item_F</th>\n",
       "      <td>Phone</td>\n",
       "      <td>100</td>\n",
       "    </tr>\n",
       "    <tr>\n",
       "      <th>Item_G</th>\n",
       "      <td>Tablet</td>\n",
       "      <td>300</td>\n",
       "    </tr>\n",
       "  </tbody>\n",
       "</table>\n",
       "</div>"
      ],
      "text/plain": [
       "         Product  Price\n",
       "Item_D  Computer   1100\n",
       "Item_B   Printer    150\n",
       "Item_A   Monitor    500\n",
       "Item_C      Desk    350\n",
       "Item_F     Phone    100\n",
       "Item_G    Tablet    300"
      ]
     },
     "execution_count": 214,
     "metadata": {},
     "output_type": "execute_result"
    }
   ],
   "source": [
    "df2.loc['Item_D':'Item_G']"
   ]
  },
  {
   "cell_type": "code",
   "execution_count": 215,
   "id": "4abc0d74",
   "metadata": {},
   "outputs": [
    {
     "data": {
      "text/plain": [
       "location                                   Queens\n",
       "product_type                              planter\n",
       "product_description    20 inch terracotta planter\n",
       "quantity                                       87\n",
       "price                                       17.99\n",
       "Name: 28, dtype: object"
      ]
     },
     "execution_count": 215,
     "metadata": {},
     "output_type": "execute_result"
    }
   ],
   "source": [
    "df.iloc[-1]"
   ]
  },
  {
   "cell_type": "markdown",
   "id": "1eddccb8",
   "metadata": {},
   "source": [
    "### Second argument is column selection"
   ]
  },
  {
   "cell_type": "code",
   "execution_count": 216,
   "id": "e49359a9",
   "metadata": {},
   "outputs": [
    {
     "data": {
      "text/html": [
       "<div>\n",
       "<style scoped>\n",
       "    .dataframe tbody tr th:only-of-type {\n",
       "        vertical-align: middle;\n",
       "    }\n",
       "\n",
       "    .dataframe tbody tr th {\n",
       "        vertical-align: top;\n",
       "    }\n",
       "\n",
       "    .dataframe thead th {\n",
       "        text-align: right;\n",
       "    }\n",
       "</style>\n",
       "<table border=\"1\" class=\"dataframe\">\n",
       "  <thead>\n",
       "    <tr style=\"text-align: right;\">\n",
       "      <th></th>\n",
       "      <th>location</th>\n",
       "      <th>product_type</th>\n",
       "    </tr>\n",
       "  </thead>\n",
       "  <tbody>\n",
       "    <tr>\n",
       "      <th>0</th>\n",
       "      <td>Staten Island</td>\n",
       "      <td>seeds</td>\n",
       "    </tr>\n",
       "    <tr>\n",
       "      <th>1</th>\n",
       "      <td>Staten Island</td>\n",
       "      <td>seeds</td>\n",
       "    </tr>\n",
       "    <tr>\n",
       "      <th>2</th>\n",
       "      <td>Staten Island</td>\n",
       "      <td>seeds</td>\n",
       "    </tr>\n",
       "    <tr>\n",
       "      <th>3</th>\n",
       "      <td>Staten Island</td>\n",
       "      <td>garden tools</td>\n",
       "    </tr>\n",
       "    <tr>\n",
       "      <th>4</th>\n",
       "      <td>Staten Island</td>\n",
       "      <td>garden tools</td>\n",
       "    </tr>\n",
       "    <tr>\n",
       "      <th>5</th>\n",
       "      <td>Staten Island</td>\n",
       "      <td>garden tools</td>\n",
       "    </tr>\n",
       "    <tr>\n",
       "      <th>6</th>\n",
       "      <td>Staten Island</td>\n",
       "      <td>pest_control</td>\n",
       "    </tr>\n",
       "    <tr>\n",
       "      <th>7</th>\n",
       "      <td>Staten Island</td>\n",
       "      <td>pest_control</td>\n",
       "    </tr>\n",
       "    <tr>\n",
       "      <th>8</th>\n",
       "      <td>Staten Island</td>\n",
       "      <td>planter</td>\n",
       "    </tr>\n",
       "    <tr>\n",
       "      <th>9</th>\n",
       "      <td>Staten Island</td>\n",
       "      <td>planter</td>\n",
       "    </tr>\n",
       "    <tr>\n",
       "      <th>10</th>\n",
       "      <td>Brooklyn</td>\n",
       "      <td>seeds</td>\n",
       "    </tr>\n",
       "    <tr>\n",
       "      <th>11</th>\n",
       "      <td>Brooklyn</td>\n",
       "      <td>seeds</td>\n",
       "    </tr>\n",
       "    <tr>\n",
       "      <th>12</th>\n",
       "      <td>Brooklyn</td>\n",
       "      <td>seeds</td>\n",
       "    </tr>\n",
       "    <tr>\n",
       "      <th>13</th>\n",
       "      <td>Brooklyn</td>\n",
       "      <td>garden tools</td>\n",
       "    </tr>\n",
       "    <tr>\n",
       "      <th>14</th>\n",
       "      <td>Brooklyn</td>\n",
       "      <td>garden tools</td>\n",
       "    </tr>\n",
       "    <tr>\n",
       "      <th>15</th>\n",
       "      <td>Brooklyn</td>\n",
       "      <td>garden tools</td>\n",
       "    </tr>\n",
       "    <tr>\n",
       "      <th>16</th>\n",
       "      <td>Brooklyn</td>\n",
       "      <td>pest_control</td>\n",
       "    </tr>\n",
       "    <tr>\n",
       "      <th>17</th>\n",
       "      <td>Brooklyn</td>\n",
       "      <td>pest_control</td>\n",
       "    </tr>\n",
       "    <tr>\n",
       "      <th>18</th>\n",
       "      <td>Brooklyn</td>\n",
       "      <td>planter</td>\n",
       "    </tr>\n",
       "    <tr>\n",
       "      <th>19</th>\n",
       "      <td>Brooklyn</td>\n",
       "      <td>planter</td>\n",
       "    </tr>\n",
       "    <tr>\n",
       "      <th>20</th>\n",
       "      <td>Queens</td>\n",
       "      <td>seeds</td>\n",
       "    </tr>\n",
       "    <tr>\n",
       "      <th>21</th>\n",
       "      <td>Queens</td>\n",
       "      <td>seeds</td>\n",
       "    </tr>\n",
       "    <tr>\n",
       "      <th>22</th>\n",
       "      <td>Queens</td>\n",
       "      <td>seeds</td>\n",
       "    </tr>\n",
       "    <tr>\n",
       "      <th>23</th>\n",
       "      <td>Queens</td>\n",
       "      <td>garden tools</td>\n",
       "    </tr>\n",
       "    <tr>\n",
       "      <th>24</th>\n",
       "      <td>Queens</td>\n",
       "      <td>garden tools</td>\n",
       "    </tr>\n",
       "    <tr>\n",
       "      <th>25</th>\n",
       "      <td>Queens</td>\n",
       "      <td>garden tools</td>\n",
       "    </tr>\n",
       "    <tr>\n",
       "      <th>26</th>\n",
       "      <td>Queens</td>\n",
       "      <td>pest_control</td>\n",
       "    </tr>\n",
       "    <tr>\n",
       "      <th>27</th>\n",
       "      <td>Queens</td>\n",
       "      <td>pest_control</td>\n",
       "    </tr>\n",
       "    <tr>\n",
       "      <th>28</th>\n",
       "      <td>Queens</td>\n",
       "      <td>planter</td>\n",
       "    </tr>\n",
       "  </tbody>\n",
       "</table>\n",
       "</div>"
      ],
      "text/plain": [
       "         location  product_type\n",
       "0   Staten Island         seeds\n",
       "1   Staten Island         seeds\n",
       "2   Staten Island         seeds\n",
       "3   Staten Island  garden tools\n",
       "4   Staten Island  garden tools\n",
       "5   Staten Island  garden tools\n",
       "6   Staten Island  pest_control\n",
       "7   Staten Island  pest_control\n",
       "8   Staten Island       planter\n",
       "9   Staten Island       planter\n",
       "10       Brooklyn         seeds\n",
       "11       Brooklyn         seeds\n",
       "12       Brooklyn         seeds\n",
       "13       Brooklyn  garden tools\n",
       "14       Brooklyn  garden tools\n",
       "15       Brooklyn  garden tools\n",
       "16       Brooklyn  pest_control\n",
       "17       Brooklyn  pest_control\n",
       "18       Brooklyn       planter\n",
       "19       Brooklyn       planter\n",
       "20         Queens         seeds\n",
       "21         Queens         seeds\n",
       "22         Queens         seeds\n",
       "23         Queens  garden tools\n",
       "24         Queens  garden tools\n",
       "25         Queens  garden tools\n",
       "26         Queens  pest_control\n",
       "27         Queens  pest_control\n",
       "28         Queens       planter"
      ]
     },
     "execution_count": 216,
     "metadata": {},
     "output_type": "execute_result"
    }
   ],
   "source": [
    "df.loc[:,['location', 'product_type']]"
   ]
  },
  {
   "cell_type": "code",
   "execution_count": 217,
   "id": "ed480fa1",
   "metadata": {},
   "outputs": [
    {
     "data": {
      "text/html": [
       "<div>\n",
       "<style scoped>\n",
       "    .dataframe tbody tr th:only-of-type {\n",
       "        vertical-align: middle;\n",
       "    }\n",
       "\n",
       "    .dataframe tbody tr th {\n",
       "        vertical-align: top;\n",
       "    }\n",
       "\n",
       "    .dataframe thead th {\n",
       "        text-align: right;\n",
       "    }\n",
       "</style>\n",
       "<table border=\"1\" class=\"dataframe\">\n",
       "  <thead>\n",
       "    <tr style=\"text-align: right;\">\n",
       "      <th></th>\n",
       "      <th>Product</th>\n",
       "    </tr>\n",
       "  </thead>\n",
       "  <tbody>\n",
       "    <tr>\n",
       "      <th>Item_D</th>\n",
       "      <td>Computer</td>\n",
       "    </tr>\n",
       "    <tr>\n",
       "      <th>Item_B</th>\n",
       "      <td>Printer</td>\n",
       "    </tr>\n",
       "    <tr>\n",
       "      <th>Item_A</th>\n",
       "      <td>Monitor</td>\n",
       "    </tr>\n",
       "    <tr>\n",
       "      <th>Item_C</th>\n",
       "      <td>Desk</td>\n",
       "    </tr>\n",
       "    <tr>\n",
       "      <th>Item_F</th>\n",
       "      <td>Phone</td>\n",
       "    </tr>\n",
       "    <tr>\n",
       "      <th>Item_G</th>\n",
       "      <td>Tablet</td>\n",
       "    </tr>\n",
       "  </tbody>\n",
       "</table>\n",
       "</div>"
      ],
      "text/plain": [
       "         Product\n",
       "Item_D  Computer\n",
       "Item_B   Printer\n",
       "Item_A   Monitor\n",
       "Item_C      Desk\n",
       "Item_F     Phone\n",
       "Item_G    Tablet"
      ]
     },
     "execution_count": 217,
     "metadata": {},
     "output_type": "execute_result"
    }
   ],
   "source": [
    "df2.loc['Item_D':'Item_G',[\"Product\"]]"
   ]
  },
  {
   "cell_type": "code",
   "execution_count": 219,
   "id": "5b42a842",
   "metadata": {},
   "outputs": [
    {
     "data": {
      "text/html": [
       "<div>\n",
       "<style scoped>\n",
       "    .dataframe tbody tr th:only-of-type {\n",
       "        vertical-align: middle;\n",
       "    }\n",
       "\n",
       "    .dataframe tbody tr th {\n",
       "        vertical-align: top;\n",
       "    }\n",
       "\n",
       "    .dataframe thead th {\n",
       "        text-align: right;\n",
       "    }\n",
       "</style>\n",
       "<table border=\"1\" class=\"dataframe\">\n",
       "  <thead>\n",
       "    <tr style=\"text-align: right;\">\n",
       "      <th></th>\n",
       "      <th>product_description</th>\n",
       "    </tr>\n",
       "  </thead>\n",
       "  <tbody>\n",
       "    <tr>\n",
       "      <th>2</th>\n",
       "      <td>tomato</td>\n",
       "    </tr>\n",
       "    <tr>\n",
       "      <th>3</th>\n",
       "      <td>rake</td>\n",
       "    </tr>\n",
       "    <tr>\n",
       "      <th>4</th>\n",
       "      <td>wheelbarrow</td>\n",
       "    </tr>\n",
       "  </tbody>\n",
       "</table>\n",
       "</div>"
      ],
      "text/plain": [
       "  product_description\n",
       "2              tomato\n",
       "3                rake\n",
       "4         wheelbarrow"
      ]
     },
     "execution_count": 219,
     "metadata": {},
     "output_type": "execute_result"
    }
   ],
   "source": [
    "df.iloc[2:5, [2]]"
   ]
  },
  {
   "cell_type": "code",
   "execution_count": 220,
   "id": "37244f2f",
   "metadata": {},
   "outputs": [
    {
     "data": {
      "text/html": [
       "<div>\n",
       "<style scoped>\n",
       "    .dataframe tbody tr th:only-of-type {\n",
       "        vertical-align: middle;\n",
       "    }\n",
       "\n",
       "    .dataframe tbody tr th {\n",
       "        vertical-align: top;\n",
       "    }\n",
       "\n",
       "    .dataframe thead th {\n",
       "        text-align: right;\n",
       "    }\n",
       "</style>\n",
       "<table border=\"1\" class=\"dataframe\">\n",
       "  <thead>\n",
       "    <tr style=\"text-align: right;\">\n",
       "      <th></th>\n",
       "      <th>product_type</th>\n",
       "      <th>price</th>\n",
       "    </tr>\n",
       "  </thead>\n",
       "  <tbody>\n",
       "    <tr>\n",
       "      <th>1</th>\n",
       "      <td>seeds</td>\n",
       "      <td>19.99</td>\n",
       "    </tr>\n",
       "    <tr>\n",
       "      <th>2</th>\n",
       "      <td>seeds</td>\n",
       "      <td>13.99</td>\n",
       "    </tr>\n",
       "    <tr>\n",
       "      <th>3</th>\n",
       "      <td>garden tools</td>\n",
       "      <td>13.99</td>\n",
       "    </tr>\n",
       "  </tbody>\n",
       "</table>\n",
       "</div>"
      ],
      "text/plain": [
       "   product_type  price\n",
       "1         seeds  19.99\n",
       "2         seeds  13.99\n",
       "3  garden tools  13.99"
      ]
     },
     "execution_count": 220,
     "metadata": {},
     "output_type": "execute_result"
    }
   ],
   "source": [
    "df.loc[1:3, ['product_type', 'price']]"
   ]
  },
  {
   "cell_type": "markdown",
   "id": "fd53fcd1",
   "metadata": {},
   "source": [
    "## Grouping"
   ]
  },
  {
   "cell_type": "code",
   "execution_count": 223,
   "id": "60bc5575",
   "metadata": {},
   "outputs": [],
   "source": [
    "ipl_data = {'Team': ['Riders', 'Riders', 'Devils', 'Devils', 'Kings', 'kings','Kings', \n",
    "                     'Kings', 'Riders', 'Royals', 'Royals','Riders' ], 'Rank':[1,2,2,3,3,4,1,1,2,4,1,2], \n",
    "           'Year':[2014, 2015, 2014, 2015, 2014,2015,2016,2017,2016,2014,2015,2017],'Points':[876,789,\n",
    "                                                                                             863,673,741,812,756,788,694,701,\n",
    "                                                                                             804,690]}\n",
    "\n",
    "# this is a python dictionary. we will convert to dataframe in the next step"
   ]
  },
  {
   "cell_type": "code",
   "execution_count": 224,
   "id": "fbd78792",
   "metadata": {},
   "outputs": [],
   "source": [
    "ipl_df = pd.DataFrame(ipl_data)"
   ]
  },
  {
   "cell_type": "code",
   "execution_count": 88,
   "id": "dd9a45dc",
   "metadata": {},
   "outputs": [
    {
     "name": "stdout",
     "output_type": "stream",
     "text": [
      "     Team  Rank  Year  Points\n",
      "0  Riders     1  2014     876\n",
      "1  Riders     2  2015     789\n",
      "2  Devils     2  2014     863\n",
      "3  Devils     3  2015     673\n",
      "4   Kings     3  2014     741\n"
     ]
    }
   ],
   "source": [
    "print(ipl_df.head())"
   ]
  },
  {
   "cell_type": "code",
   "execution_count": 225,
   "id": "9f96b7cb",
   "metadata": {},
   "outputs": [],
   "source": [
    "grouped = ipl_df.groupby('Year')"
   ]
  },
  {
   "cell_type": "code",
   "execution_count": 226,
   "id": "b3a6f53f",
   "metadata": {},
   "outputs": [
    {
     "name": "stdout",
     "output_type": "stream",
     "text": [
      "<pandas.core.groupby.generic.DataFrameGroupBy object at 0x7fdbb9181d90>\n"
     ]
    }
   ],
   "source": [
    "print(grouped)"
   ]
  },
  {
   "cell_type": "code",
   "execution_count": 85,
   "id": "b52c8925",
   "metadata": {},
   "outputs": [
    {
     "name": "stdout",
     "output_type": "stream",
     "text": [
      "2014\n",
      "2015\n",
      "2016\n",
      "2017\n"
     ]
    }
   ],
   "source": [
    "for name, group in grouped:\n",
    "    print(name)\n",
    "    "
   ]
  },
  {
   "cell_type": "code",
   "execution_count": 86,
   "id": "00f838b6",
   "metadata": {},
   "outputs": [
    {
     "name": "stdout",
     "output_type": "stream",
     "text": [
      "     Team  Rank  Year  Points\n",
      "0  Riders     1  2014     876\n",
      "2  Devils     2  2014     863\n",
      "4   Kings     3  2014     741\n",
      "9  Royals     4  2014     701\n",
      "      Team  Rank  Year  Points\n",
      "1   Riders     2  2015     789\n",
      "3   Devils     3  2015     673\n",
      "5    kings     4  2015     812\n",
      "10  Royals     1  2015     804\n",
      "     Team  Rank  Year  Points\n",
      "6   Kings     1  2016     756\n",
      "8  Riders     2  2016     694\n",
      "      Team  Rank  Year  Points\n",
      "7    Kings     1  2017     788\n",
      "11  Riders     2  2017     690\n"
     ]
    }
   ],
   "source": [
    "for name, group in grouped:\n",
    "    print(group)\n",
    "    "
   ]
  },
  {
   "cell_type": "code",
   "execution_count": 87,
   "id": "e261dbf9",
   "metadata": {},
   "outputs": [
    {
     "name": "stdout",
     "output_type": "stream",
     "text": [
      "2014\n",
      "     Team  Rank  Year  Points\n",
      "0  Riders     1  2014     876\n",
      "2  Devils     2  2014     863\n",
      "4   Kings     3  2014     741\n",
      "9  Royals     4  2014     701\n",
      "2015\n",
      "      Team  Rank  Year  Points\n",
      "1   Riders     2  2015     789\n",
      "3   Devils     3  2015     673\n",
      "5    kings     4  2015     812\n",
      "10  Royals     1  2015     804\n",
      "2016\n",
      "     Team  Rank  Year  Points\n",
      "6   Kings     1  2016     756\n",
      "8  Riders     2  2016     694\n",
      "2017\n",
      "      Team  Rank  Year  Points\n",
      "7    Kings     1  2017     788\n",
      "11  Riders     2  2017     690\n"
     ]
    }
   ],
   "source": [
    "for name, group in grouped:\n",
    "    print(name)\n",
    "    print(group)"
   ]
  },
  {
   "cell_type": "code",
   "execution_count": 229,
   "id": "15138e3d",
   "metadata": {},
   "outputs": [
    {
     "data": {
      "text/html": [
       "<div>\n",
       "<style scoped>\n",
       "    .dataframe tbody tr th:only-of-type {\n",
       "        vertical-align: middle;\n",
       "    }\n",
       "\n",
       "    .dataframe tbody tr th {\n",
       "        vertical-align: top;\n",
       "    }\n",
       "\n",
       "    .dataframe thead th {\n",
       "        text-align: right;\n",
       "    }\n",
       "</style>\n",
       "<table border=\"1\" class=\"dataframe\">\n",
       "  <thead>\n",
       "    <tr style=\"text-align: right;\">\n",
       "      <th></th>\n",
       "      <th>location</th>\n",
       "      <th>product_type</th>\n",
       "      <th>product_description</th>\n",
       "      <th>quantity</th>\n",
       "      <th>price</th>\n",
       "    </tr>\n",
       "  </thead>\n",
       "  <tbody>\n",
       "    <tr>\n",
       "      <th>0</th>\n",
       "      <td>Staten Island</td>\n",
       "      <td>seeds</td>\n",
       "      <td>daisy</td>\n",
       "      <td>4</td>\n",
       "      <td>6.99</td>\n",
       "    </tr>\n",
       "    <tr>\n",
       "      <th>1</th>\n",
       "      <td>Staten Island</td>\n",
       "      <td>seeds</td>\n",
       "      <td>calla lily</td>\n",
       "      <td>46</td>\n",
       "      <td>19.99</td>\n",
       "    </tr>\n",
       "    <tr>\n",
       "      <th>2</th>\n",
       "      <td>Staten Island</td>\n",
       "      <td>seeds</td>\n",
       "      <td>tomato</td>\n",
       "      <td>85</td>\n",
       "      <td>13.99</td>\n",
       "    </tr>\n",
       "    <tr>\n",
       "      <th>3</th>\n",
       "      <td>Staten Island</td>\n",
       "      <td>garden tools</td>\n",
       "      <td>rake</td>\n",
       "      <td>4</td>\n",
       "      <td>13.99</td>\n",
       "    </tr>\n",
       "    <tr>\n",
       "      <th>4</th>\n",
       "      <td>Staten Island</td>\n",
       "      <td>garden tools</td>\n",
       "      <td>wheelbarrow</td>\n",
       "      <td>0</td>\n",
       "      <td>89.99</td>\n",
       "    </tr>\n",
       "  </tbody>\n",
       "</table>\n",
       "</div>"
      ],
      "text/plain": [
       "        location  product_type product_description  quantity  price\n",
       "0  Staten Island         seeds               daisy         4   6.99\n",
       "1  Staten Island         seeds          calla lily        46  19.99\n",
       "2  Staten Island         seeds              tomato        85  13.99\n",
       "3  Staten Island  garden tools                rake         4  13.99\n",
       "4  Staten Island  garden tools         wheelbarrow         0  89.99"
      ]
     },
     "execution_count": 229,
     "metadata": {},
     "output_type": "execute_result"
    }
   ],
   "source": [
    "df.head()\n",
    "\n"
   ]
  },
  {
   "cell_type": "code",
   "execution_count": 230,
   "id": "82a5343a",
   "metadata": {},
   "outputs": [],
   "source": [
    "g = df.groupby('product_type')"
   ]
  },
  {
   "cell_type": "code",
   "execution_count": 235,
   "id": "94b370e9",
   "metadata": {},
   "outputs": [
    {
     "name": "stdout",
     "output_type": "stream",
     "text": [
      "garden tools\n",
      "         location  product_type product_description  quantity  price\n",
      "3   Staten Island  garden tools                rake         4  13.99\n",
      "4   Staten Island  garden tools         wheelbarrow         0  89.99\n",
      "5   Staten Island  garden tools               spade        93  19.99\n",
      "13       Brooklyn  garden tools                rake        15  13.99\n",
      "14       Brooklyn  garden tools         wheelbarrow        82  89.99\n",
      "15       Brooklyn  garden tools               spade        36  19.99\n",
      "23         Queens  garden tools                rake        21  13.99\n",
      "24         Queens  garden tools         wheelbarrow        98  89.99\n",
      "25         Queens  garden tools               spade        26  19.99\n",
      "pest_control\n",
      "         location  product_type product_description  quantity  price\n",
      "6   Staten Island  pest_control       insect killer        74  12.99\n",
      "7   Staten Island  pest_control         weed killer         8  23.99\n",
      "16       Brooklyn  pest_control       insect killer        80  12.99\n",
      "17       Brooklyn  pest_control         weed killer        76  23.99\n",
      "26         Queens  pest_control       insect killer         0  12.99\n",
      "27         Queens  pest_control         weed killer        16  23.99\n",
      "planter\n",
      "         location product_type         product_description  quantity  price\n",
      "8   Staten Island      planter  20 inch terracotta planter         0  17.99\n",
      "9   Staten Island      planter      8 inch plastic planter        53   3.99\n",
      "18       Brooklyn      planter  20 inch terracotta planter         5  17.99\n",
      "19       Brooklyn      planter      8 inch plastic planter        26   3.99\n",
      "28         Queens      planter  20 inch terracotta planter        87  17.99\n",
      "seeds\n",
      "         location product_type product_description  quantity  price\n",
      "0   Staten Island        seeds               daisy         4   6.99\n",
      "1   Staten Island        seeds          calla lily        46  19.99\n",
      "2   Staten Island        seeds              tomato        85  13.99\n",
      "10       Brooklyn        seeds               daisy        50   6.99\n",
      "11       Brooklyn        seeds          calla lily         0  19.99\n",
      "12       Brooklyn        seeds              tomato         0  13.99\n",
      "20         Queens        seeds               daisy        57   6.99\n",
      "21         Queens        seeds          calla lily        95  19.99\n",
      "22         Queens        seeds              tomato        45  13.99\n"
     ]
    }
   ],
   "source": [
    "for labels,data in g:\n",
    "    print(labels)\n",
    "    print(data)"
   ]
  },
  {
   "cell_type": "markdown",
   "id": "95466f5f",
   "metadata": {},
   "source": [
    "## Importing Data"
   ]
  },
  {
   "cell_type": "code",
   "execution_count": 123,
   "id": "15fef759",
   "metadata": {},
   "outputs": [],
   "source": [
    "salary_df = pd.read_excel('salary.xlsx', index_col=0) "
   ]
  },
  {
   "cell_type": "code",
   "execution_count": 124,
   "id": "0eb2ff0a",
   "metadata": {},
   "outputs": [
    {
     "data": {
      "text/html": [
       "<div>\n",
       "<style scoped>\n",
       "    .dataframe tbody tr th:only-of-type {\n",
       "        vertical-align: middle;\n",
       "    }\n",
       "\n",
       "    .dataframe tbody tr th {\n",
       "        vertical-align: top;\n",
       "    }\n",
       "\n",
       "    .dataframe thead th {\n",
       "        text-align: right;\n",
       "    }\n",
       "</style>\n",
       "<table border=\"1\" class=\"dataframe\">\n",
       "  <thead>\n",
       "    <tr style=\"text-align: right;\">\n",
       "      <th></th>\n",
       "      <th>Unnamed: 1</th>\n",
       "      <th>Unnamed: 2</th>\n",
       "      <th>Unnamed: 3</th>\n",
       "      <th>Unnamed: 4</th>\n",
       "    </tr>\n",
       "    <tr>\n",
       "      <th>inventory</th>\n",
       "      <th></th>\n",
       "      <th></th>\n",
       "      <th></th>\n",
       "      <th></th>\n",
       "    </tr>\n",
       "  </thead>\n",
       "  <tbody>\n",
       "    <tr>\n",
       "      <th>location</th>\n",
       "      <td>product_type</td>\n",
       "      <td>product_description</td>\n",
       "      <td>quantity</td>\n",
       "      <td>price</td>\n",
       "    </tr>\n",
       "    <tr>\n",
       "      <th>Staten Island</th>\n",
       "      <td>seeds</td>\n",
       "      <td>daisy</td>\n",
       "      <td>4</td>\n",
       "      <td>6.99</td>\n",
       "    </tr>\n",
       "    <tr>\n",
       "      <th>Staten Island</th>\n",
       "      <td>seeds</td>\n",
       "      <td>calla lily</td>\n",
       "      <td>46</td>\n",
       "      <td>19.99</td>\n",
       "    </tr>\n",
       "    <tr>\n",
       "      <th>Staten Island</th>\n",
       "      <td>seeds</td>\n",
       "      <td>tomato</td>\n",
       "      <td>85</td>\n",
       "      <td>13.99</td>\n",
       "    </tr>\n",
       "    <tr>\n",
       "      <th>Staten Island</th>\n",
       "      <td>garden tools</td>\n",
       "      <td>rake</td>\n",
       "      <td>4</td>\n",
       "      <td>13.99</td>\n",
       "    </tr>\n",
       "  </tbody>\n",
       "</table>\n",
       "</div>"
      ],
      "text/plain": [
       "                 Unnamed: 1           Unnamed: 2 Unnamed: 3 Unnamed: 4\n",
       "inventory                                                             \n",
       "location       product_type  product_description   quantity      price\n",
       "Staten Island         seeds                daisy          4       6.99\n",
       "Staten Island         seeds           calla lily         46      19.99\n",
       "Staten Island         seeds               tomato         85      13.99\n",
       "Staten Island  garden tools                 rake          4      13.99"
      ]
     },
     "execution_count": 124,
     "metadata": {},
     "output_type": "execute_result"
    }
   ],
   "source": [
    "salary_df.head()"
   ]
  },
  {
   "cell_type": "code",
   "execution_count": 120,
   "id": "116f9e7b",
   "metadata": {},
   "outputs": [],
   "source": [
    "salary_df = pd.read_excel('salary.xlsx') "
   ]
  },
  {
   "cell_type": "code",
   "execution_count": 122,
   "id": "4260c8e1",
   "metadata": {},
   "outputs": [
    {
     "data": {
      "text/html": [
       "<div>\n",
       "<style scoped>\n",
       "    .dataframe tbody tr th:only-of-type {\n",
       "        vertical-align: middle;\n",
       "    }\n",
       "\n",
       "    .dataframe tbody tr th {\n",
       "        vertical-align: top;\n",
       "    }\n",
       "\n",
       "    .dataframe thead th {\n",
       "        text-align: right;\n",
       "    }\n",
       "</style>\n",
       "<table border=\"1\" class=\"dataframe\">\n",
       "  <thead>\n",
       "    <tr style=\"text-align: right;\">\n",
       "      <th></th>\n",
       "      <th>inventory</th>\n",
       "      <th>Unnamed: 1</th>\n",
       "      <th>Unnamed: 2</th>\n",
       "      <th>Unnamed: 3</th>\n",
       "      <th>Unnamed: 4</th>\n",
       "    </tr>\n",
       "  </thead>\n",
       "  <tbody>\n",
       "    <tr>\n",
       "      <th>0</th>\n",
       "      <td>location</td>\n",
       "      <td>product_type</td>\n",
       "      <td>product_description</td>\n",
       "      <td>quantity</td>\n",
       "      <td>price</td>\n",
       "    </tr>\n",
       "    <tr>\n",
       "      <th>1</th>\n",
       "      <td>Staten Island</td>\n",
       "      <td>seeds</td>\n",
       "      <td>daisy</td>\n",
       "      <td>4</td>\n",
       "      <td>6.99</td>\n",
       "    </tr>\n",
       "    <tr>\n",
       "      <th>2</th>\n",
       "      <td>Staten Island</td>\n",
       "      <td>seeds</td>\n",
       "      <td>calla lily</td>\n",
       "      <td>46</td>\n",
       "      <td>19.99</td>\n",
       "    </tr>\n",
       "    <tr>\n",
       "      <th>3</th>\n",
       "      <td>Staten Island</td>\n",
       "      <td>seeds</td>\n",
       "      <td>tomato</td>\n",
       "      <td>85</td>\n",
       "      <td>13.99</td>\n",
       "    </tr>\n",
       "    <tr>\n",
       "      <th>4</th>\n",
       "      <td>Staten Island</td>\n",
       "      <td>garden tools</td>\n",
       "      <td>rake</td>\n",
       "      <td>4</td>\n",
       "      <td>13.99</td>\n",
       "    </tr>\n",
       "  </tbody>\n",
       "</table>\n",
       "</div>"
      ],
      "text/plain": [
       "       inventory    Unnamed: 1           Unnamed: 2 Unnamed: 3 Unnamed: 4\n",
       "0       location  product_type  product_description   quantity      price\n",
       "1  Staten Island         seeds                daisy          4       6.99\n",
       "2  Staten Island         seeds           calla lily         46      19.99\n",
       "3  Staten Island         seeds               tomato         85      13.99\n",
       "4  Staten Island  garden tools                 rake          4      13.99"
      ]
     },
     "execution_count": 122,
     "metadata": {},
     "output_type": "execute_result"
    }
   ],
   "source": [
    "salary_df.head()"
   ]
  },
  {
   "cell_type": "code",
   "execution_count": 117,
   "id": "12037947",
   "metadata": {},
   "outputs": [],
   "source": [
    "df = pd.read_csv('inventory.csv')"
   ]
  },
  {
   "cell_type": "code",
   "execution_count": 119,
   "id": "67d68112",
   "metadata": {},
   "outputs": [
    {
     "data": {
      "text/html": [
       "<div>\n",
       "<style scoped>\n",
       "    .dataframe tbody tr th:only-of-type {\n",
       "        vertical-align: middle;\n",
       "    }\n",
       "\n",
       "    .dataframe tbody tr th {\n",
       "        vertical-align: top;\n",
       "    }\n",
       "\n",
       "    .dataframe thead th {\n",
       "        text-align: right;\n",
       "    }\n",
       "</style>\n",
       "<table border=\"1\" class=\"dataframe\">\n",
       "  <thead>\n",
       "    <tr style=\"text-align: right;\">\n",
       "      <th></th>\n",
       "      <th>location</th>\n",
       "      <th>product_type</th>\n",
       "      <th>product_description</th>\n",
       "      <th>quantity</th>\n",
       "      <th>price</th>\n",
       "    </tr>\n",
       "  </thead>\n",
       "  <tbody>\n",
       "    <tr>\n",
       "      <th>0</th>\n",
       "      <td>Staten Island</td>\n",
       "      <td>seeds</td>\n",
       "      <td>daisy</td>\n",
       "      <td>4</td>\n",
       "      <td>6.99</td>\n",
       "    </tr>\n",
       "    <tr>\n",
       "      <th>1</th>\n",
       "      <td>Staten Island</td>\n",
       "      <td>seeds</td>\n",
       "      <td>calla lily</td>\n",
       "      <td>46</td>\n",
       "      <td>19.99</td>\n",
       "    </tr>\n",
       "    <tr>\n",
       "      <th>2</th>\n",
       "      <td>Staten Island</td>\n",
       "      <td>seeds</td>\n",
       "      <td>tomato</td>\n",
       "      <td>85</td>\n",
       "      <td>13.99</td>\n",
       "    </tr>\n",
       "    <tr>\n",
       "      <th>3</th>\n",
       "      <td>Staten Island</td>\n",
       "      <td>garden tools</td>\n",
       "      <td>rake</td>\n",
       "      <td>4</td>\n",
       "      <td>13.99</td>\n",
       "    </tr>\n",
       "    <tr>\n",
       "      <th>4</th>\n",
       "      <td>Staten Island</td>\n",
       "      <td>garden tools</td>\n",
       "      <td>wheelbarrow</td>\n",
       "      <td>0</td>\n",
       "      <td>89.99</td>\n",
       "    </tr>\n",
       "  </tbody>\n",
       "</table>\n",
       "</div>"
      ],
      "text/plain": [
       "        location  product_type product_description  quantity  price\n",
       "0  Staten Island         seeds               daisy         4   6.99\n",
       "1  Staten Island         seeds          calla lily        46  19.99\n",
       "2  Staten Island         seeds              tomato        85  13.99\n",
       "3  Staten Island  garden tools                rake         4  13.99\n",
       "4  Staten Island  garden tools         wheelbarrow         0  89.99"
      ]
     },
     "execution_count": 119,
     "metadata": {},
     "output_type": "execute_result"
    }
   ],
   "source": [
    "df.head()"
   ]
  },
  {
   "cell_type": "markdown",
   "id": "722f9b38",
   "metadata": {},
   "source": [
    "## Loading from SQL\n",
    "\n",
    "```\n",
    "import pyodbc\n",
    "import pandas as pd\n",
    "\n",
    "cnxn = pyodbc.connect('DRIVER=ODBC Driver 17 for SQLServer; SERVER=servername/IP;DATABASE=somedatabase;UID=login;PWD=abc123@4556’)\n",
    "\n",
    "query = \"SELECT top 10 facility FROM dba.tb_facility;\"\n",
    "df = pd.read_sql(query, cnxn)\n",
    "print(df)\n",
    "\n",
    "\n",
    "\n",
    "```"
   ]
  },
  {
   "cell_type": "markdown",
   "id": "bf7c793e",
   "metadata": {},
   "source": [
    "## Making a DataFrame from a Python Dictionary"
   ]
  },
  {
   "cell_type": "code",
   "execution_count": 125,
   "id": "ac7b986a",
   "metadata": {},
   "outputs": [
    {
     "data": {
      "text/html": [
       "<div>\n",
       "<style scoped>\n",
       "    .dataframe tbody tr th:only-of-type {\n",
       "        vertical-align: middle;\n",
       "    }\n",
       "\n",
       "    .dataframe tbody tr th {\n",
       "        vertical-align: top;\n",
       "    }\n",
       "\n",
       "    .dataframe thead th {\n",
       "        text-align: right;\n",
       "    }\n",
       "</style>\n",
       "<table border=\"1\" class=\"dataframe\">\n",
       "  <thead>\n",
       "    <tr style=\"text-align: right;\">\n",
       "      <th></th>\n",
       "      <th>col1</th>\n",
       "      <th>col2</th>\n",
       "    </tr>\n",
       "  </thead>\n",
       "  <tbody>\n",
       "    <tr>\n",
       "      <th>0</th>\n",
       "      <td>1</td>\n",
       "      <td>3</td>\n",
       "    </tr>\n",
       "    <tr>\n",
       "      <th>1</th>\n",
       "      <td>2</td>\n",
       "      <td>4</td>\n",
       "    </tr>\n",
       "  </tbody>\n",
       "</table>\n",
       "</div>"
      ],
      "text/plain": [
       "   col1  col2\n",
       "0     1     3\n",
       "1     2     4"
      ]
     },
     "execution_count": 125,
     "metadata": {},
     "output_type": "execute_result"
    }
   ],
   "source": [
    "d = {'col1': [1, 2], 'col2': [3, 4]}\n",
    "df3 = pd.DataFrame(data=d)\n",
    "df3"
   ]
  },
  {
   "cell_type": "markdown",
   "id": "12e4e888",
   "metadata": {},
   "source": [
    "## Descriptive Statistics"
   ]
  },
  {
   "cell_type": "code",
   "execution_count": 128,
   "id": "3743d2d8",
   "metadata": {},
   "outputs": [
    {
     "name": "stderr",
     "output_type": "stream",
     "text": [
      "/var/folders/f5/yd2mlj396l3389w8qf24ftmm0000gn/T/ipykernel_4907/3035605900.py:9: FutureWarning: Dropping of nuisance columns in DataFrame reductions (with 'numeric_only=None') is deprecated; in a future version this will raise TypeError.  Select only valid columns before calling the reduction.\n",
      "  df4.std()\n"
     ]
    },
    {
     "data": {
      "text/plain": [
       "Age       9.232682\n",
       "Rating    0.661628\n",
       "dtype: float64"
      ]
     },
     "execution_count": 128,
     "metadata": {},
     "output_type": "execute_result"
    }
   ],
   "source": [
    "d = {'Name':pd.Series(['Tom','James','Ricky','Vin','Steve','Smith','Jack',\n",
    "   'Lee','David','Gasper','Betina','Andres']),\n",
    "   'Age':pd.Series([25,26,25,23,30,29,23,34,40,30,51,46]),\n",
    "   'Rating':pd.Series([4.23,3.24,3.98,2.56,3.20,4.6,3.8,3.78,2.98,4.80,4.10,3.65])\n",
    "}\n",
    "\n",
    "#Create a DataFrame\n",
    "df4 = pd.DataFrame(d)\n",
    "df4.std()"
   ]
  },
  {
   "cell_type": "markdown",
   "id": "3024317c",
   "metadata": {},
   "source": [
    "## Functions\n",
    "\n",
    "```\n",
    "1\tcount()\tNumber of non-null observations\n",
    "2\tsum()\tSum of values\n",
    "3\tmean()\tMean of Values\n",
    "4\tmedian()\tMedian of Values\n",
    "5\tmode()\tMode of values\n",
    "6\tstd()\tStandard Deviation of the Values\n",
    "7\tmin()\tMinimum Value\n",
    "8\tmax()\tMaximum Value\n",
    "9\tabs()\tAbsolute Value\n",
    "10\tprod()\tProduct of Values\n",
    "11\tcumsum()\tCumulative Sum\n",
    "12\tcumprod()\tCumulative Product\n",
    "```"
   ]
  },
  {
   "cell_type": "markdown",
   "id": "b295be1b",
   "metadata": {},
   "source": [
    "## Visualization\n",
    "\n",
    "* bar or barh for bar plots\n",
    "* hist for histogram\n",
    "* box for boxplot\n",
    "* 'area' for area plots\n",
    "* 'scatter' for scatter plots"
   ]
  },
  {
   "cell_type": "code",
   "execution_count": 132,
   "id": "ee02cfee",
   "metadata": {},
   "outputs": [
    {
     "data": {
      "text/html": [
       "<div>\n",
       "<style scoped>\n",
       "    .dataframe tbody tr th:only-of-type {\n",
       "        vertical-align: middle;\n",
       "    }\n",
       "\n",
       "    .dataframe tbody tr th {\n",
       "        vertical-align: top;\n",
       "    }\n",
       "\n",
       "    .dataframe thead th {\n",
       "        text-align: right;\n",
       "    }\n",
       "</style>\n",
       "<table border=\"1\" class=\"dataframe\">\n",
       "  <thead>\n",
       "    <tr style=\"text-align: right;\">\n",
       "      <th></th>\n",
       "      <th>location</th>\n",
       "      <th>product_type</th>\n",
       "      <th>product_description</th>\n",
       "      <th>quantity</th>\n",
       "      <th>price</th>\n",
       "    </tr>\n",
       "  </thead>\n",
       "  <tbody>\n",
       "    <tr>\n",
       "      <th>0</th>\n",
       "      <td>Staten Island</td>\n",
       "      <td>seeds</td>\n",
       "      <td>daisy</td>\n",
       "      <td>4</td>\n",
       "      <td>6.99</td>\n",
       "    </tr>\n",
       "    <tr>\n",
       "      <th>1</th>\n",
       "      <td>Staten Island</td>\n",
       "      <td>seeds</td>\n",
       "      <td>calla lily</td>\n",
       "      <td>46</td>\n",
       "      <td>19.99</td>\n",
       "    </tr>\n",
       "    <tr>\n",
       "      <th>2</th>\n",
       "      <td>Staten Island</td>\n",
       "      <td>seeds</td>\n",
       "      <td>tomato</td>\n",
       "      <td>85</td>\n",
       "      <td>13.99</td>\n",
       "    </tr>\n",
       "    <tr>\n",
       "      <th>3</th>\n",
       "      <td>Staten Island</td>\n",
       "      <td>garden tools</td>\n",
       "      <td>rake</td>\n",
       "      <td>4</td>\n",
       "      <td>13.99</td>\n",
       "    </tr>\n",
       "    <tr>\n",
       "      <th>4</th>\n",
       "      <td>Staten Island</td>\n",
       "      <td>garden tools</td>\n",
       "      <td>wheelbarrow</td>\n",
       "      <td>0</td>\n",
       "      <td>89.99</td>\n",
       "    </tr>\n",
       "  </tbody>\n",
       "</table>\n",
       "</div>"
      ],
      "text/plain": [
       "        location  product_type product_description  quantity  price\n",
       "0  Staten Island         seeds               daisy         4   6.99\n",
       "1  Staten Island         seeds          calla lily        46  19.99\n",
       "2  Staten Island         seeds              tomato        85  13.99\n",
       "3  Staten Island  garden tools                rake         4  13.99\n",
       "4  Staten Island  garden tools         wheelbarrow         0  89.99"
      ]
     },
     "execution_count": 132,
     "metadata": {},
     "output_type": "execute_result"
    }
   ],
   "source": [
    "df.head()\n"
   ]
  },
  {
   "cell_type": "code",
   "execution_count": 137,
   "id": "21eca6cb",
   "metadata": {},
   "outputs": [
    {
     "data": {
      "text/plain": [
       "<AxesSubplot:ylabel='Frequency'>"
      ]
     },
     "execution_count": 137,
     "metadata": {},
     "output_type": "execute_result"
    },
    {
     "data": {
      "image/png": "[encoded data removed]",
      "text/plain": [
       "<Figure size 432x288 with 1 Axes>"
      ]
     },
     "metadata": {
      "needs_background": "light"
     },
     "output_type": "display_data"
    }
   ],
   "source": [
    "df['price'].plot.hist()"
   ]
  },
  {
   "cell_type": "code",
   "execution_count": 141,
   "id": "db3b248e",
   "metadata": {},
   "outputs": [
    {
     "data": {
      "text/plain": [
       "<AxesSubplot:xlabel='price', ylabel='quantity'>"
      ]
     },
     "execution_count": 141,
     "metadata": {},
     "output_type": "execute_result"
    },
    {
     "data": {
      "image/png": "[encoded data removed]",
      "text/plain": [
       "<Figure size 432x288 with 1 Axes>"
      ]
     },
     "metadata": {
      "needs_background": "light"
     },
     "output_type": "display_data"
    }
   ],
   "source": [
    "df.plot.scatter(x= 'price', y = 'quantity')"
   ]
  },
  {
   "cell_type": "code",
   "execution_count": 163,
   "id": "d7b74bf8",
   "metadata": {},
   "outputs": [
    {
     "data": {
      "text/html": [
       "<div>\n",
       "<style scoped>\n",
       "    .dataframe tbody tr th:only-of-type {\n",
       "        vertical-align: middle;\n",
       "    }\n",
       "\n",
       "    .dataframe tbody tr th {\n",
       "        vertical-align: top;\n",
       "    }\n",
       "\n",
       "    .dataframe thead th {\n",
       "        text-align: right;\n",
       "    }\n",
       "</style>\n",
       "<table border=\"1\" class=\"dataframe\">\n",
       "  <thead>\n",
       "    <tr style=\"text-align: right;\">\n",
       "      <th></th>\n",
       "      <th>Steve_grades</th>\n",
       "      <th>Matt_grades</th>\n",
       "      <th>Mary_grades</th>\n",
       "      <th>John_grades</th>\n",
       "    </tr>\n",
       "  </thead>\n",
       "  <tbody>\n",
       "    <tr>\n",
       "      <th>0</th>\n",
       "      <td>0.293909</td>\n",
       "      <td>0.238320</td>\n",
       "      <td>0.216728</td>\n",
       "      <td>0.589549</td>\n",
       "    </tr>\n",
       "    <tr>\n",
       "      <th>1</th>\n",
       "      <td>0.767754</td>\n",
       "      <td>0.955339</td>\n",
       "      <td>0.705735</td>\n",
       "      <td>0.358792</td>\n",
       "    </tr>\n",
       "    <tr>\n",
       "      <th>2</th>\n",
       "      <td>0.882479</td>\n",
       "      <td>0.035521</td>\n",
       "      <td>0.904022</td>\n",
       "      <td>0.314642</td>\n",
       "    </tr>\n",
       "    <tr>\n",
       "      <th>3</th>\n",
       "      <td>0.002748</td>\n",
       "      <td>0.646845</td>\n",
       "      <td>0.110199</td>\n",
       "      <td>0.077049</td>\n",
       "    </tr>\n",
       "    <tr>\n",
       "      <th>4</th>\n",
       "      <td>0.644504</td>\n",
       "      <td>0.921429</td>\n",
       "      <td>0.840942</td>\n",
       "      <td>0.972168</td>\n",
       "    </tr>\n",
       "    <tr>\n",
       "      <th>5</th>\n",
       "      <td>0.031621</td>\n",
       "      <td>0.703547</td>\n",
       "      <td>0.956317</td>\n",
       "      <td>0.582436</td>\n",
       "    </tr>\n",
       "    <tr>\n",
       "      <th>6</th>\n",
       "      <td>0.489224</td>\n",
       "      <td>0.761268</td>\n",
       "      <td>0.791929</td>\n",
       "      <td>0.641617</td>\n",
       "    </tr>\n",
       "    <tr>\n",
       "      <th>7</th>\n",
       "      <td>0.223397</td>\n",
       "      <td>0.265081</td>\n",
       "      <td>0.383309</td>\n",
       "      <td>0.715950</td>\n",
       "    </tr>\n",
       "    <tr>\n",
       "      <th>8</th>\n",
       "      <td>0.166485</td>\n",
       "      <td>0.097695</td>\n",
       "      <td>0.878422</td>\n",
       "      <td>0.158778</td>\n",
       "    </tr>\n",
       "    <tr>\n",
       "      <th>9</th>\n",
       "      <td>0.779678</td>\n",
       "      <td>0.827308</td>\n",
       "      <td>0.121832</td>\n",
       "      <td>0.514110</td>\n",
       "    </tr>\n",
       "  </tbody>\n",
       "</table>\n",
       "</div>"
      ],
      "text/plain": [
       "   Steve_grades  Matt_grades  Mary_grades  John_grades\n",
       "0      0.293909     0.238320     0.216728     0.589549\n",
       "1      0.767754     0.955339     0.705735     0.358792\n",
       "2      0.882479     0.035521     0.904022     0.314642\n",
       "3      0.002748     0.646845     0.110199     0.077049\n",
       "4      0.644504     0.921429     0.840942     0.972168\n",
       "5      0.031621     0.703547     0.956317     0.582436\n",
       "6      0.489224     0.761268     0.791929     0.641617\n",
       "7      0.223397     0.265081     0.383309     0.715950\n",
       "8      0.166485     0.097695     0.878422     0.158778\n",
       "9      0.779678     0.827308     0.121832     0.514110"
      ]
     },
     "execution_count": 163,
     "metadata": {},
     "output_type": "execute_result"
    }
   ],
   "source": [
    "import numpy as np\n",
    "df5 = pd.DataFrame(np.random.rand(10, 4),columns=['Steve_grades','Matt_grades','Mary_grades','John_grades'])\n",
    "df5"
   ]
  },
  {
   "cell_type": "code",
   "execution_count": 165,
   "id": "a7afdf06",
   "metadata": {},
   "outputs": [
    {
     "data": {
      "text/plain": [
       "<AxesSubplot:>"
      ]
     },
     "execution_count": 165,
     "metadata": {},
     "output_type": "execute_result"
    },
    {
     "data": {
      "image/png": "[encoded data removed]",
      "text/plain": [
       "<Figure size 432x288 with 1 Axes>"
      ]
     },
     "metadata": {
      "needs_background": "light"
     },
     "output_type": "display_data"
    }
   ],
   "source": [
    "df5['Steve_grades'].plot.bar(stacked=True)\n",
    "# or stacked=False. Makes no difference since we only selecting one column\n",
    "df5['Steve_grades'].plot.bar(stacked=False)\n"
   ]
  },
  {
   "cell_type": "code",
   "execution_count": 175,
   "id": "c3afb748",
   "metadata": {},
   "outputs": [
    {
     "data": {
      "text/plain": [
       "array([<AxesSubplot:ylabel='x'>], dtype=object)"
      ]
     },
     "execution_count": 175,
     "metadata": {},
     "output_type": "execute_result"
    },
    {
     "data": {
      "image/png": "[encoded data removed]",
      "text/plain": [
       "<Figure size 432x288 with 1 Axes>"
      ]
     },
     "metadata": {},
     "output_type": "display_data"
    }
   ],
   "source": [
    "\n",
    "df6 = pd.DataFrame(3 * np.random.rand(4), index=['steve', 'john', 'mary', 'paul'], columns=['x'])\n",
    "df6.plot.pie(subplots=True)\n",
    "\n",
    "# Subplots needs to be true"
   ]
  },
  {
   "cell_type": "markdown",
   "id": "7bb8a435",
   "metadata": {},
   "source": [
    "# Python Data Analysis Project Instructions\n",
    "\n",
    "* Download Anaconda if you have not already so you can use Jupyter Notebook\n",
    "\n",
    "Find a dataset of your interest from Tableau Public,  [Kaggle](https://www.kaggle.com/datasets/ruchi798/data-science-job-salaries?resource=download),  or Google Dataset Search and import it into python using one of the pandas functions (read_csv, read_excel)\n",
    "\n",
    "* Think of 2-3 business questions that you’d like to answer using the data\n",
    "* Write the code and document your steps in a Jupyter notebook to accomplish the following:\n",
    "    * Load your data\n",
    "    * Clean your data for analysis and get it into DataFrames\n",
    "* Demonstrate the following in your notebook:\n",
    "    * Ability to index DataFrames\n",
    "    * Ability to view column headers, first n rows, and last n rows in a DataFrame\n",
    "    * Ability to select specific data points from a DataFrame\n",
    "    * Ability to sort DataFrames\n",
    "    * Ability to summarize DataFrames using GroupBy\n",
    "    * Ability to run basic descriptive statistics on a DataFrame\n",
    "    * Ability to build a basic chart with DataFrames with plot()\n",
    "* Run a basic data analysis to find at least two interesting insights and describe why they are useful\n",
    "* You should call out the code that produces these insights, as well as a visual representation of the insights (visualization, table, number, etc.)\n",
    "* You should use comments/markup to describe the insight and why it’s important directly in the Jupyter Notebook\n",
    "\n",
    "### Submission \n",
    "* Post your code on Github\n",
    "* Present your analysis and findings directly from your Jupyter Notebook\n",
    "* Create 3-5 minutes of a recorded video presentation (using [Loom](https://www.loom.com/) that explains your final project (business questions, dataset, overview of your code, insights, and visuals). Your video should not go over 5 minutes. Create a succinct video that can effectively communicate your message in a short time to busy business users."
   ]
  },
  {
   "cell_type": "code",
   "execution_count": null,
   "id": "80a897ec",
   "metadata": {},
   "outputs": [],
   "source": []
  }
 ],
 "metadata": {
  "kernelspec": {
   "display_name": "Python 3 (ipykernel)",
   "language": "python",
   "name": "python3"
  },
  "language_info": {
   "codemirror_mode": {
    "name": "ipython",
    "version": 3
   },
   "file_extension": ".py",
   "mimetype": "text/x-python",
   "name": "python",
   "nbconvert_exporter": "python",
   "pygments_lexer": "ipython3",
   "version": "3.9.7"
  }
 },
 "nbformat": 4,
 "nbformat_minor": 5
}
